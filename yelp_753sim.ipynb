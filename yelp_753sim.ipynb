{
 "cells": [
  {
   "cell_type": "code",
   "execution_count": 34,
   "source": [
    "import os\r\n",
    "import time\r\n",
    "\r\n",
    "import json\r\n",
    "\r\n",
    "from operator import itemgetter\r\n",
    "\r\n",
    "# data science imports\r\n",
    "import math\r\n",
    "import numpy as np\r\n",
    "import pandas as pd\r\n",
    "from scipy.sparse import csr_matrix\r\n",
    "from sklearn.neighbors import NearestNeighbors\r\n",
    "\r\n",
    "# utils import\r\n",
    "from fuzzywuzzy import fuzz\r\n",
    "\r\n",
    "# visualization imports\r\n",
    "import seaborn as sns\r\n",
    "import matplotlib.pyplot as plt"
   ],
   "outputs": [],
   "metadata": {}
  },
  {
   "cell_type": "markdown",
   "source": [
    "## Load Json Data"
   ],
   "metadata": {}
  },
  {
   "cell_type": "code",
   "execution_count": 35,
   "source": [
    "def read_josn (path):\r\n",
    "    file = open(path, \"r\", encoding = 'utf-8')\r\n",
    "    df = []\r\n",
    "    for line in file.readlines():\r\n",
    "        dic = json.loads(line)\r\n",
    "        df.append(dic)\r\n",
    "    return df"
   ],
   "outputs": [],
   "metadata": {}
  },
  {
   "cell_type": "code",
   "execution_count": 36,
   "source": [
    "# load business data\r\n",
    "path = \"dataset/Peoria_Data/Peoria_business.json\"\r\n",
    "business_list = read_josn(path)\r\n",
    "# load reviews data\r\n",
    "path = \"dataset/Peoria_Data/Peoria_Review.json\"\r\n",
    "review_list = read_josn(path)\r\n",
    "# load user data\r\n",
    "path = \"dataset/Peoria_Data/Peoria_User.json\"\r\n",
    "user_list = read_josn(path)"
   ],
   "outputs": [],
   "metadata": {}
  },
  {
   "cell_type": "markdown",
   "source": [
    "## Transform to dataframe"
   ],
   "metadata": {}
  },
  {
   "cell_type": "code",
   "execution_count": 37,
   "source": [
    "# business list into dataframe\r\n",
    "df_business = pd.DataFrame()\r\n",
    "business_id = []\r\n",
    "name = []\r\n",
    "for element in business_list:\r\n",
    "    business_id.append(element[\"business_id\"])\r\n",
    "    name.append(element[\"name\"])\r\n",
    "\r\n",
    "Business_Num_Id = {}\r\n",
    "U = 1\r\n",
    "B = 1\r\n",
    "Business_Id = []\r\n",
    "for index in range(len(business_id)):\r\n",
    "    if business_id[index] not in Business_Num_Id.keys():\r\n",
    "        Business_Num_Id[business_id[index]] = B\r\n",
    "        B = B + 1\r\n",
    "    Business_Id.append(Business_Num_Id[business_id[index]])\r\n",
    "    \r\n",
    "\r\n",
    "df_business[\"RawBusinessId\"] = business_id\r\n",
    "df_business[\"businessId\"] = Business_Id\r\n",
    "df_business[\"title\"] = name\r\n",
    "\r\n",
    "df_business.head()"
   ],
   "outputs": [
    {
     "output_type": "execute_result",
     "data": {
      "text/html": [
       "<div>\n",
       "<style scoped>\n",
       "    .dataframe tbody tr th:only-of-type {\n",
       "        vertical-align: middle;\n",
       "    }\n",
       "\n",
       "    .dataframe tbody tr th {\n",
       "        vertical-align: top;\n",
       "    }\n",
       "\n",
       "    .dataframe thead th {\n",
       "        text-align: right;\n",
       "    }\n",
       "</style>\n",
       "<table border=\"1\" class=\"dataframe\">\n",
       "  <thead>\n",
       "    <tr style=\"text-align: right;\">\n",
       "      <th></th>\n",
       "      <th>RawBusinessId</th>\n",
       "      <th>businessId</th>\n",
       "      <th>title</th>\n",
       "    </tr>\n",
       "  </thead>\n",
       "  <tbody>\n",
       "    <tr>\n",
       "      <th>0</th>\n",
       "      <td>Q1GhjqlLENaT383k9Ex5wg</td>\n",
       "      <td>1</td>\n",
       "      <td>Daily Donut</td>\n",
       "    </tr>\n",
       "    <tr>\n",
       "      <th>1</th>\n",
       "      <td>cz5kBEZMHKyJ_nZXn-IRIA</td>\n",
       "      <td>2</td>\n",
       "      <td>Hall Brent R DDS</td>\n",
       "    </tr>\n",
       "    <tr>\n",
       "      <th>2</th>\n",
       "      <td>U1iF2RC18uBgBe01z5BMXw</td>\n",
       "      <td>3</td>\n",
       "      <td>Church's Chicken</td>\n",
       "    </tr>\n",
       "    <tr>\n",
       "      <th>3</th>\n",
       "      <td>9eY5ZfKPc_oz6Co5WCPynQ</td>\n",
       "      <td>4</td>\n",
       "      <td>Fullerton Financial Planning</td>\n",
       "    </tr>\n",
       "    <tr>\n",
       "      <th>4</th>\n",
       "      <td>aERMWmIT6yJVGYIn4qQizQ</td>\n",
       "      <td>5</td>\n",
       "      <td>GO AZ Motorcycles</td>\n",
       "    </tr>\n",
       "  </tbody>\n",
       "</table>\n",
       "</div>"
      ],
      "text/plain": [
       "            RawBusinessId  businessId                         title\n",
       "0  Q1GhjqlLENaT383k9Ex5wg           1                   Daily Donut\n",
       "1  cz5kBEZMHKyJ_nZXn-IRIA           2              Hall Brent R DDS\n",
       "2  U1iF2RC18uBgBe01z5BMXw           3              Church's Chicken\n",
       "3  9eY5ZfKPc_oz6Co5WCPynQ           4  Fullerton Financial Planning\n",
       "4  aERMWmIT6yJVGYIn4qQizQ           5             GO AZ Motorcycles"
      ]
     },
     "metadata": {},
     "execution_count": 37
    }
   ],
   "metadata": {}
  },
  {
   "cell_type": "code",
   "execution_count": 38,
   "source": [
    "# User list into dataframe\r\n",
    "df_user = pd.DataFrame()\r\n",
    "user_id = []\r\n",
    "name = []\r\n",
    "for element in user_list:\r\n",
    "    user_id.append(element[\"user_id\"])\r\n",
    "    name.append(element[\"name\"])\r\n",
    "\r\n",
    "User_Num_Id = {}\r\n",
    "U = 1\r\n",
    "User_Id = []\r\n",
    "for index in range(len(user_id)):\r\n",
    "    if user_id[index] not in User_Num_Id.keys():\r\n",
    "        User_Num_Id[user_id[index]] = U\r\n",
    "        U = U + 1\r\n",
    "    User_Id.append(User_Num_Id[user_id[index]])\r\n",
    "    \r\n",
    "df_user[\"RawUserId\"] = user_id\r\n",
    "df_user[\"UserId\"] = User_Id\r\n",
    "df_user[\"name\"] = name\r\n",
    "\r\n",
    "df_user.head()"
   ],
   "outputs": [
    {
     "output_type": "execute_result",
     "data": {
      "text/html": [
       "<div>\n",
       "<style scoped>\n",
       "    .dataframe tbody tr th:only-of-type {\n",
       "        vertical-align: middle;\n",
       "    }\n",
       "\n",
       "    .dataframe tbody tr th {\n",
       "        vertical-align: top;\n",
       "    }\n",
       "\n",
       "    .dataframe thead th {\n",
       "        text-align: right;\n",
       "    }\n",
       "</style>\n",
       "<table border=\"1\" class=\"dataframe\">\n",
       "  <thead>\n",
       "    <tr style=\"text-align: right;\">\n",
       "      <th></th>\n",
       "      <th>RawUserId</th>\n",
       "      <th>UserId</th>\n",
       "      <th>name</th>\n",
       "    </tr>\n",
       "  </thead>\n",
       "  <tbody>\n",
       "    <tr>\n",
       "      <th>0</th>\n",
       "      <td>eSlOI3GhroEtcbaD_nFXJQ</td>\n",
       "      <td>1</td>\n",
       "      <td>Jason</td>\n",
       "    </tr>\n",
       "    <tr>\n",
       "      <th>1</th>\n",
       "      <td>U4INQZOPSUaj8hMjLlZ3KA</td>\n",
       "      <td>2</td>\n",
       "      <td>Michael</td>\n",
       "    </tr>\n",
       "    <tr>\n",
       "      <th>2</th>\n",
       "      <td>xZAmw5gihOVO4duMN2Ju6Q</td>\n",
       "      <td>3</td>\n",
       "      <td>Flynn</td>\n",
       "    </tr>\n",
       "    <tr>\n",
       "      <th>3</th>\n",
       "      <td>F78tJHr0qW6FsYBtWMmLpA</td>\n",
       "      <td>4</td>\n",
       "      <td>Christopher</td>\n",
       "    </tr>\n",
       "    <tr>\n",
       "      <th>4</th>\n",
       "      <td>TUE3NJYN4i7xyGVSIXMLvw</td>\n",
       "      <td>5</td>\n",
       "      <td>Kymberly</td>\n",
       "    </tr>\n",
       "  </tbody>\n",
       "</table>\n",
       "</div>"
      ],
      "text/plain": [
       "                RawUserId  UserId         name\n",
       "0  eSlOI3GhroEtcbaD_nFXJQ       1        Jason\n",
       "1  U4INQZOPSUaj8hMjLlZ3KA       2      Michael\n",
       "2  xZAmw5gihOVO4duMN2Ju6Q       3        Flynn\n",
       "3  F78tJHr0qW6FsYBtWMmLpA       4  Christopher\n",
       "4  TUE3NJYN4i7xyGVSIXMLvw       5     Kymberly"
      ]
     },
     "metadata": {},
     "execution_count": 38
    }
   ],
   "metadata": {}
  },
  {
   "cell_type": "code",
   "execution_count": 39,
   "source": [
    "# review list into dataframe\r\n",
    "df_ratings = pd.DataFrame()\r\n",
    "#review_id = []\r\n",
    "user_id = []\r\n",
    "business_id = []\r\n",
    "ratings = []\r\n",
    "for element in review_list:\r\n",
    "    uid = User_Num_Id[element[\"user_id\"]]\r\n",
    "    bid = Business_Num_Id[element[\"business_id\"]]\r\n",
    "    \r\n",
    "    user_id.append(uid)\r\n",
    "    business_id.append(bid)\r\n",
    "    ratings.append(element[\"stars\"])\r\n",
    "\r\n",
    "#df_ratings[\"review_id\"] = review_id\r\n",
    "df_ratings[\"userId\"] = user_id\r\n",
    "df_ratings[\"businessId\"] = business_id\r\n",
    "df_ratings[\"rating\"] = ratings\r\n",
    "\r\n",
    "df_ratings.head()"
   ],
   "outputs": [
    {
     "output_type": "execute_result",
     "data": {
      "text/html": [
       "<div>\n",
       "<style scoped>\n",
       "    .dataframe tbody tr th:only-of-type {\n",
       "        vertical-align: middle;\n",
       "    }\n",
       "\n",
       "    .dataframe tbody tr th {\n",
       "        vertical-align: top;\n",
       "    }\n",
       "\n",
       "    .dataframe thead th {\n",
       "        text-align: right;\n",
       "    }\n",
       "</style>\n",
       "<table border=\"1\" class=\"dataframe\">\n",
       "  <thead>\n",
       "    <tr style=\"text-align: right;\">\n",
       "      <th></th>\n",
       "      <th>userId</th>\n",
       "      <th>businessId</th>\n",
       "      <th>rating</th>\n",
       "    </tr>\n",
       "  </thead>\n",
       "  <tbody>\n",
       "    <tr>\n",
       "      <th>0</th>\n",
       "      <td>5042</td>\n",
       "      <td>153</td>\n",
       "      <td>5.0</td>\n",
       "    </tr>\n",
       "    <tr>\n",
       "      <th>1</th>\n",
       "      <td>5763</td>\n",
       "      <td>50</td>\n",
       "      <td>5.0</td>\n",
       "    </tr>\n",
       "    <tr>\n",
       "      <th>2</th>\n",
       "      <td>79</td>\n",
       "      <td>58</td>\n",
       "      <td>1.0</td>\n",
       "    </tr>\n",
       "    <tr>\n",
       "      <th>3</th>\n",
       "      <td>6284</td>\n",
       "      <td>63</td>\n",
       "      <td>5.0</td>\n",
       "    </tr>\n",
       "    <tr>\n",
       "      <th>4</th>\n",
       "      <td>4844</td>\n",
       "      <td>130</td>\n",
       "      <td>2.0</td>\n",
       "    </tr>\n",
       "  </tbody>\n",
       "</table>\n",
       "</div>"
      ],
      "text/plain": [
       "   userId  businessId  rating\n",
       "0    5042         153     5.0\n",
       "1    5763          50     5.0\n",
       "2      79          58     1.0\n",
       "3    6284          63     5.0\n",
       "4    4844         130     2.0"
      ]
     },
     "metadata": {},
     "execution_count": 39
    }
   ],
   "metadata": {}
  },
  {
   "cell_type": "markdown",
   "source": [
    "## Filter Data"
   ],
   "metadata": {}
  },
  {
   "cell_type": "markdown",
   "source": [
    "### For Business"
   ],
   "metadata": {}
  },
  {
   "cell_type": "code",
   "execution_count": 40,
   "source": [
    "# get rating frequency\r\n",
    "df_business_cnt = pd.DataFrame(df_ratings.groupby('businessId').size(), columns=['count'])\r\n",
    "df_business_cnt.head()"
   ],
   "outputs": [
    {
     "output_type": "execute_result",
     "data": {
      "text/html": [
       "<div>\n",
       "<style scoped>\n",
       "    .dataframe tbody tr th:only-of-type {\n",
       "        vertical-align: middle;\n",
       "    }\n",
       "\n",
       "    .dataframe tbody tr th {\n",
       "        vertical-align: top;\n",
       "    }\n",
       "\n",
       "    .dataframe thead th {\n",
       "        text-align: right;\n",
       "    }\n",
       "</style>\n",
       "<table border=\"1\" class=\"dataframe\">\n",
       "  <thead>\n",
       "    <tr style=\"text-align: right;\">\n",
       "      <th></th>\n",
       "      <th>count</th>\n",
       "    </tr>\n",
       "    <tr>\n",
       "      <th>businessId</th>\n",
       "      <th></th>\n",
       "    </tr>\n",
       "  </thead>\n",
       "  <tbody>\n",
       "    <tr>\n",
       "      <th>1</th>\n",
       "      <td>33</td>\n",
       "    </tr>\n",
       "    <tr>\n",
       "      <th>2</th>\n",
       "      <td>4</td>\n",
       "    </tr>\n",
       "    <tr>\n",
       "      <th>3</th>\n",
       "      <td>3</td>\n",
       "    </tr>\n",
       "    <tr>\n",
       "      <th>4</th>\n",
       "      <td>4</td>\n",
       "    </tr>\n",
       "    <tr>\n",
       "      <th>5</th>\n",
       "      <td>44</td>\n",
       "    </tr>\n",
       "  </tbody>\n",
       "</table>\n",
       "</div>"
      ],
      "text/plain": [
       "            count\n",
       "businessId       \n",
       "1              33\n",
       "2               4\n",
       "3               3\n",
       "4               4\n",
       "5              44"
      ]
     },
     "metadata": {},
     "execution_count": 40
    }
   ],
   "metadata": {}
  },
  {
   "cell_type": "code",
   "execution_count": 41,
   "source": [
    "# top quantiles of rating counts\r\n",
    "df_business_cnt['count'].quantile(np.arange(1, 0.6, -0.05))"
   ],
   "outputs": [
    {
     "output_type": "execute_result",
     "data": {
      "text/plain": [
       "1.00    620.0\n",
       "0.95    124.2\n",
       "0.90     71.0\n",
       "0.85     46.0\n",
       "0.80     34.0\n",
       "0.75     27.0\n",
       "0.70     21.0\n",
       "0.65     18.0\n",
       "Name: count, dtype: float64"
      ]
     },
     "metadata": {},
     "execution_count": 41
    }
   ],
   "metadata": {}
  },
  {
   "cell_type": "code",
   "execution_count": 42,
   "source": [
    "# filter data - movies count less than 20\r\n",
    "popularity_thres = 10\r\n",
    "popular_business = list(set(df_business_cnt.query('count >= @popularity_thres').index))\r\n",
    "df_ratings_drop_business = df_ratings[df_ratings.businessId.isin(popular_business)]\r\n",
    "print('shape of original ratings data: ', df_ratings.shape)\r\n",
    "print('shape of ratings data after dropping unpopular business: ', df_ratings_drop_business.shape)"
   ],
   "outputs": [
    {
     "output_type": "stream",
     "name": "stdout",
     "text": [
      "shape of original ratings data:  (57857, 3)\n",
      "shape of ratings data after dropping unpopular business:  (53338, 3)\n"
     ]
    }
   ],
   "metadata": {}
  },
  {
   "cell_type": "markdown",
   "source": [
    "### For Users"
   ],
   "metadata": {}
  },
  {
   "cell_type": "code",
   "execution_count": 43,
   "source": [
    "# get number of ratings given by every user\r\n",
    "df_users_cnt = pd.DataFrame(df_ratings_drop_business.groupby('userId').size(), columns=['count'])\r\n",
    "df_users_cnt.head()"
   ],
   "outputs": [
    {
     "output_type": "execute_result",
     "data": {
      "text/html": [
       "<div>\n",
       "<style scoped>\n",
       "    .dataframe tbody tr th:only-of-type {\n",
       "        vertical-align: middle;\n",
       "    }\n",
       "\n",
       "    .dataframe tbody tr th {\n",
       "        vertical-align: top;\n",
       "    }\n",
       "\n",
       "    .dataframe thead th {\n",
       "        text-align: right;\n",
       "    }\n",
       "</style>\n",
       "<table border=\"1\" class=\"dataframe\">\n",
       "  <thead>\n",
       "    <tr style=\"text-align: right;\">\n",
       "      <th></th>\n",
       "      <th>count</th>\n",
       "    </tr>\n",
       "    <tr>\n",
       "      <th>userId</th>\n",
       "      <th></th>\n",
       "    </tr>\n",
       "  </thead>\n",
       "  <tbody>\n",
       "    <tr>\n",
       "      <th>1</th>\n",
       "      <td>1</td>\n",
       "    </tr>\n",
       "    <tr>\n",
       "      <th>2</th>\n",
       "      <td>2</td>\n",
       "    </tr>\n",
       "    <tr>\n",
       "      <th>3</th>\n",
       "      <td>6</td>\n",
       "    </tr>\n",
       "    <tr>\n",
       "      <th>4</th>\n",
       "      <td>10</td>\n",
       "    </tr>\n",
       "    <tr>\n",
       "      <th>6</th>\n",
       "      <td>7</td>\n",
       "    </tr>\n",
       "  </tbody>\n",
       "</table>\n",
       "</div>"
      ],
      "text/plain": [
       "        count\n",
       "userId       \n",
       "1           1\n",
       "2           2\n",
       "3           6\n",
       "4          10\n",
       "6           7"
      ]
     },
     "metadata": {},
     "execution_count": 43
    }
   ],
   "metadata": {}
  },
  {
   "cell_type": "code",
   "execution_count": 44,
   "source": [
    "df_users_cnt['count'].quantile(np.arange(1, 0.5, -0.05))"
   ],
   "outputs": [
    {
     "output_type": "execute_result",
     "data": {
      "text/plain": [
       "1.00    109.0\n",
       "0.95      5.0\n",
       "0.90      3.0\n",
       "0.85      2.0\n",
       "0.80      2.0\n",
       "0.75      2.0\n",
       "0.70      1.0\n",
       "0.65      1.0\n",
       "0.60      1.0\n",
       "0.55      1.0\n",
       "Name: count, dtype: float64"
      ]
     },
     "metadata": {},
     "execution_count": 44
    }
   ],
   "metadata": {}
  },
  {
   "cell_type": "code",
   "execution_count": 45,
   "source": [
    "# filter data\r\n",
    "ratings_thres = 3\r\n",
    "active_users = list(set(df_users_cnt.query('count >= @ratings_thres').index))\r\n",
    "df_ratings_drop_users = df_ratings_drop_business[df_ratings_drop_business.userId.isin(active_users)]\r\n",
    "print('shape of original ratings data: ', df_ratings.shape)\r\n",
    "print('shape of ratings data after dropping both unpopular business and inactive users: ', df_ratings_drop_users.shape)"
   ],
   "outputs": [
    {
     "output_type": "stream",
     "name": "stdout",
     "text": [
      "shape of original ratings data:  (57857, 3)\n",
      "shape of ratings data after dropping both unpopular business and inactive users:  (23675, 3)\n"
     ]
    }
   ],
   "metadata": {}
  },
  {
   "cell_type": "code",
   "execution_count": 46,
   "source": [
    "df_ratings_drop_users.index = list(range(0, df_ratings_drop_users.shape[0]))\r\n",
    "df_ratings_drop_users"
   ],
   "outputs": [
    {
     "output_type": "execute_result",
     "data": {
      "text/html": [
       "<div>\n",
       "<style scoped>\n",
       "    .dataframe tbody tr th:only-of-type {\n",
       "        vertical-align: middle;\n",
       "    }\n",
       "\n",
       "    .dataframe tbody tr th {\n",
       "        vertical-align: top;\n",
       "    }\n",
       "\n",
       "    .dataframe thead th {\n",
       "        text-align: right;\n",
       "    }\n",
       "</style>\n",
       "<table border=\"1\" class=\"dataframe\">\n",
       "  <thead>\n",
       "    <tr style=\"text-align: right;\">\n",
       "      <th></th>\n",
       "      <th>userId</th>\n",
       "      <th>businessId</th>\n",
       "      <th>rating</th>\n",
       "    </tr>\n",
       "  </thead>\n",
       "  <tbody>\n",
       "    <tr>\n",
       "      <th>0</th>\n",
       "      <td>79</td>\n",
       "      <td>58</td>\n",
       "      <td>1.0</td>\n",
       "    </tr>\n",
       "    <tr>\n",
       "      <th>1</th>\n",
       "      <td>4844</td>\n",
       "      <td>130</td>\n",
       "      <td>2.0</td>\n",
       "    </tr>\n",
       "    <tr>\n",
       "      <th>2</th>\n",
       "      <td>1598</td>\n",
       "      <td>78</td>\n",
       "      <td>5.0</td>\n",
       "    </tr>\n",
       "    <tr>\n",
       "      <th>3</th>\n",
       "      <td>3163</td>\n",
       "      <td>16</td>\n",
       "      <td>3.0</td>\n",
       "    </tr>\n",
       "    <tr>\n",
       "      <th>4</th>\n",
       "      <td>2015</td>\n",
       "      <td>34</td>\n",
       "      <td>5.0</td>\n",
       "    </tr>\n",
       "    <tr>\n",
       "      <th>...</th>\n",
       "      <td>...</td>\n",
       "      <td>...</td>\n",
       "      <td>...</td>\n",
       "    </tr>\n",
       "    <tr>\n",
       "      <th>23670</th>\n",
       "      <td>22959</td>\n",
       "      <td>1821</td>\n",
       "      <td>1.0</td>\n",
       "    </tr>\n",
       "    <tr>\n",
       "      <th>23671</th>\n",
       "      <td>15889</td>\n",
       "      <td>1740</td>\n",
       "      <td>4.0</td>\n",
       "    </tr>\n",
       "    <tr>\n",
       "      <th>23672</th>\n",
       "      <td>3020</td>\n",
       "      <td>1831</td>\n",
       "      <td>5.0</td>\n",
       "    </tr>\n",
       "    <tr>\n",
       "      <th>23673</th>\n",
       "      <td>4671</td>\n",
       "      <td>1831</td>\n",
       "      <td>5.0</td>\n",
       "    </tr>\n",
       "    <tr>\n",
       "      <th>23674</th>\n",
       "      <td>11974</td>\n",
       "      <td>1739</td>\n",
       "      <td>4.0</td>\n",
       "    </tr>\n",
       "  </tbody>\n",
       "</table>\n",
       "<p>23675 rows × 3 columns</p>\n",
       "</div>"
      ],
      "text/plain": [
       "       userId  businessId  rating\n",
       "0          79          58     1.0\n",
       "1        4844         130     2.0\n",
       "2        1598          78     5.0\n",
       "3        3163          16     3.0\n",
       "4        2015          34     5.0\n",
       "...       ...         ...     ...\n",
       "23670   22959        1821     1.0\n",
       "23671   15889        1740     4.0\n",
       "23672    3020        1831     5.0\n",
       "23673    4671        1831     5.0\n",
       "23674   11974        1739     4.0\n",
       "\n",
       "[23675 rows x 3 columns]"
      ]
     },
     "metadata": {},
     "execution_count": 46
    }
   ],
   "metadata": {
    "tags": []
   }
  },
  {
   "cell_type": "code",
   "execution_count": 47,
   "source": [
    "# the number of users and movies\r\n",
    "num_users = len(df_ratings_drop_users.userId.unique())\r\n",
    "num_items = len(df_ratings_drop_users.businessId.unique())\r\n",
    "print('There are {} unique users and {} unique movies in this data set'.format(num_users, num_items))"
   ],
   "outputs": [
    {
     "output_type": "stream",
     "name": "stdout",
     "text": [
      "There are 4090 unique users and 1007 unique movies in this data set\n"
     ]
    }
   ],
   "metadata": {}
  },
  {
   "cell_type": "markdown",
   "source": [
    "## Transform dataframe to dictionary"
   ],
   "metadata": {}
  },
  {
   "cell_type": "code",
   "execution_count": 48,
   "source": [
    "dataDic = {}\r\n",
    "dataDic_len = 0\r\n",
    "# 遍历data的每一行， 把userId, movidId, rating按照{user: {movidId: rating}}的方式存储， 当然定义一个随机种子进行数据集划分\r\n",
    "for ele in df_ratings_drop_users.itertuples():   # 遍历行这里推荐用itertuples， 比iterrows会高效很多\r\n",
    "    user, business, rating = getattr(ele, 'userId'), getattr(ele, 'businessId'), getattr(ele, 'rating')\r\n",
    "    \r\n",
    "    dataDic.setdefault(user, {})\r\n",
    "    dataDic[user][business] = rating\r\n",
    "    dataDic_len += 1\r\n",
    "    \r\n",
    "print('dataDic = %s' % dataDic_len)"
   ],
   "outputs": [
    {
     "output_type": "stream",
     "name": "stdout",
     "text": [
      "dataDic = 23675\n"
     ]
    }
   ],
   "metadata": {}
  },
  {
   "cell_type": "markdown",
   "source": [
    "## Get Similarity"
   ],
   "metadata": {}
  },
  {
   "cell_type": "code",
   "execution_count": 49,
   "source": [
    "# 计算每部电影的流行程度, 也就是每部电影被用户看的总次数， 这个衡量相似度的时候作为分母\r\n",
    "business_popular = {}\r\n",
    "for user, businesses in dataDic.items():   # 这里的user就是每个用户， movies还是个字典， {movieID: rating}\r\n",
    "    for business in businesses:       # 这里的movie就是movieID了\r\n",
    "        if business not in business_popular:     \r\n",
    "            business_popular[business] = 0  \r\n",
    "        business_popular[business] += 1\r\n",
    "\r\n",
    "\r\n",
    "business_count = len(business_popular)\r\n",
    "print('Total business number = %d' % business_count)\r\n",
    "\r\n",
    "\r\n",
    "# 下面建立电影相似矩阵\r\n",
    "print('Build user co-rated movies matrix ...')\r\n",
    "business_sim_matrix = {}\r\n",
    "for user, businesses in dataDic.items():     # 注意这个地方与UserCF的不同\r\n",
    "    for b1 in businesses:           # 对于每个电影， 都得双层遍历\r\n",
    "        for b2 in businesses:\r\n",
    "            if b1 == b2:\r\n",
    "                continue\r\n",
    "            business_sim_matrix.setdefault(b1, {})      # 把字典的值设置为字典的形式\r\n",
    "            business_sim_matrix[b1].setdefault(b2, 0)\r\n",
    "            \r\n",
    "            # 753 cos-sim 分子\r\n",
    "            business_sim_matrix[b1][b2] += businesses[b1]*businesses[b2]\r\n",
    "            \r\n",
    "print('Build user co-rated businesses matrix success!')\r\n",
    "\r\n",
    "\r\n",
    "# 753 cos-sim 分母\r\n",
    "temp_sim = {}\r\n",
    "for user, businesses in dataDic.items():\r\n",
    "    for b in businesses:\r\n",
    "        if b not in temp_sim:     \r\n",
    "            temp_sim[b] = 0  \r\n",
    "        temp_sim[b] += math.pow(businesses[b],2)\r\n",
    "\r\n",
    "# 下面计算电影之间的相似性\r\n",
    "print('Calculating movies similarity matrix ...')\r\n",
    "for b1, related_businesses in business_sim_matrix.items():\r\n",
    "    for b2, count in related_businesses.items():    # 这里面m2是相关电影， count是共同被同一个用户打分的次数\r\n",
    "        # 这里注意零向量的处理， 即某电影的用户数为0   \r\n",
    "        # 753-cos\r\n",
    "        if temp_sim[b1] == 0 or temp_sim[b2] == 0:\r\n",
    "            business_sim_matrix[b1][b2] = 0\r\n",
    "        else:\r\n",
    "            #753-cos\r\n",
    "            business_sim_matrix[b1][b2] = count / math.sqrt(temp_sim[b1] * temp_sim[b2]) \r\n",
    "print('Calculate movies similarity matrix success!')"
   ],
   "outputs": [
    {
     "output_type": "stream",
     "name": "stdout",
     "text": [
      "Total business number = 1007\n",
      "Build user co-rated movies matrix ...\n",
      "Build user co-rated businesses matrix success!\n",
      "Calculating movies similarity matrix ...\n",
      "Calculate movies similarity matrix success!\n"
     ]
    }
   ],
   "metadata": {}
  },
  {
   "cell_type": "code",
   "execution_count": 50,
   "source": [
    "# 这里先把产生推荐的那个封装成函数才能测试所有的测试样本\r\n",
    "def recommend(aim_user, data, sim_matrix, k=20, n=20):\r\n",
    "    rank ={}\r\n",
    "    rated_businesses = data[aim_user]      # 找出目标用户看到电影\r\n",
    "    \r\n",
    "    # 753\r\n",
    "    w_sum = {}\r\n",
    "    R = {}\r\n",
    "    \r\n",
    "    for business, rating in rated_businesses.items():\r\n",
    "        #遍历与物品item最相似的前k个产品，获得这些物品及相似分数\r\n",
    "        for related_business, w in sorted(sim_matrix[business].items(), key=itemgetter(1), reverse=True)[:k]:\r\n",
    "            # 若该物品用户看过， 跳过\r\n",
    "            if related_business in rated_businesses:\r\n",
    "                continue\r\n",
    "\r\n",
    "            # 计算用户user对related_business的偏好值， 初始化该值为0\r\n",
    "            rank.setdefault(related_business, 0)\r\n",
    "            w_sum.setdefault(related_business, 0)\r\n",
    "            #通过与其相似物品对物品related_business的偏好值相乘并相加。\r\n",
    "            #排名的依据—— > 推荐电影与该已看电影的相似度(累计) * 用户对已看电影的评分\r\n",
    "            rank[related_business] += w * (rating)\r\n",
    "            w_sum[related_business] += w\r\n",
    "    \r\n",
    "    # 753\r\n",
    "    for bid in rank.keys():\r\n",
    "        rank[bid] = (rank[bid] / w_sum[bid])\r\n",
    "    \r\n",
    "    #print(rank)\r\n",
    "    # 产生最后的推荐列表\r\n",
    "    result =  sorted(rank.items(), key=itemgetter(1), reverse=True)[:n]  # itemgetter(1) 是简洁写法\r\n",
    "    \r\n",
    "    rank_position = list(range(1,len(result)+1))\r\n",
    "    \r\n",
    "    return result, rank_position"
   ],
   "outputs": [],
   "metadata": {
    "tags": []
   }
  },
  {
   "cell_type": "markdown",
   "source": [
    "#### 一个例子"
   ],
   "metadata": {}
  },
  {
   "cell_type": "code",
   "execution_count": 51,
   "source": [
    "aim_user = 1202\r\n",
    "recom_list, rank_posi = recommend(aim_user, dataDic, business_sim_matrix,k=50,n=50)"
   ],
   "outputs": [],
   "metadata": {
    "tags": []
   }
  },
  {
   "cell_type": "code",
   "execution_count": 52,
   "source": [
    "recom_list"
   ],
   "outputs": [
    {
     "output_type": "execute_result",
     "data": {
      "text/plain": [
       "[(714, 3.0000000000000004),\n",
       " (659, 3.0000000000000004),\n",
       " (1894, 3.0000000000000004),\n",
       " (1124, 3.0000000000000004),\n",
       " (1612, 3.0000000000000004),\n",
       " (284, 3.0000000000000004),\n",
       " (1734, 3.0000000000000004),\n",
       " (1482, 3.0000000000000004),\n",
       " (943, 3.0000000000000004),\n",
       " (339, 3.0000000000000004),\n",
       " (1236, 3.0),\n",
       " (1837, 3.0),\n",
       " (1891, 3.0),\n",
       " (118, 3.0),\n",
       " (919, 3.0),\n",
       " (312, 3.0),\n",
       " (1043, 3.0),\n",
       " (1378, 3.0),\n",
       " (1152, 3.0),\n",
       " (1717, 3.0),\n",
       " (623, 3.0),\n",
       " (1748, 3.0),\n",
       " (786, 3.0),\n",
       " (1100, 3.0),\n",
       " (185, 3.0),\n",
       " (741, 3.0),\n",
       " (1188, 3.0),\n",
       " (256, 3.0),\n",
       " (1351, 3.0),\n",
       " (280, 3.0),\n",
       " (1384, 3.0),\n",
       " (1739, 3.0),\n",
       " (1128, 3.0),\n",
       " (682, 3.0),\n",
       " (1869, 3.0),\n",
       " (1246, 3.0),\n",
       " (86, 3.0),\n",
       " (1362, 3.0),\n",
       " (1002, 3.0),\n",
       " (473, 3.0),\n",
       " (229, 3.0),\n",
       " (1504, 3.0),\n",
       " (1857, 3.0),\n",
       " (1859, 3.0),\n",
       " (1065, 3.0),\n",
       " (883, 3.0),\n",
       " (1008, 3.0),\n",
       " (500, 3.0),\n",
       " (457, 3.0),\n",
       " (995, 3.0)]"
      ]
     },
     "metadata": {},
     "execution_count": 52
    }
   ],
   "metadata": {
    "collapsed": true,
    "jupyter": {
     "outputs_hidden": true
    },
    "tags": []
   }
  },
  {
   "cell_type": "code",
   "execution_count": 53,
   "source": [
    "rank_posi"
   ],
   "outputs": [
    {
     "output_type": "execute_result",
     "data": {
      "text/plain": [
       "[1,\n",
       " 2,\n",
       " 3,\n",
       " 4,\n",
       " 5,\n",
       " 6,\n",
       " 7,\n",
       " 8,\n",
       " 9,\n",
       " 10,\n",
       " 11,\n",
       " 12,\n",
       " 13,\n",
       " 14,\n",
       " 15,\n",
       " 16,\n",
       " 17,\n",
       " 18,\n",
       " 19,\n",
       " 20,\n",
       " 21,\n",
       " 22,\n",
       " 23,\n",
       " 24,\n",
       " 25,\n",
       " 26,\n",
       " 27,\n",
       " 28,\n",
       " 29,\n",
       " 30,\n",
       " 31,\n",
       " 32,\n",
       " 33,\n",
       " 34,\n",
       " 35,\n",
       " 36,\n",
       " 37,\n",
       " 38,\n",
       " 39,\n",
       " 40,\n",
       " 41,\n",
       " 42,\n",
       " 43,\n",
       " 44,\n",
       " 45,\n",
       " 46,\n",
       " 47,\n",
       " 48,\n",
       " 49,\n",
       " 50]"
      ]
     },
     "metadata": {},
     "execution_count": 53
    }
   ],
   "metadata": {
    "collapsed": true,
    "jupyter": {
     "outputs_hidden": true
    },
    "tags": []
   }
  },
  {
   "cell_type": "markdown",
   "source": [
    "## PRU"
   ],
   "metadata": {}
  },
  {
   "cell_type": "code",
   "execution_count": 54,
   "source": [
    "from scipy import stats\r\n",
    "\r\n",
    "def get_SRC(recom_list, rank_posi, business_popular):\r\n",
    "    # popularity list\r\n",
    "    popularity = []\r\n",
    "    for bid, rating in recom_list:\r\n",
    "        popularity.append(business_popular[bid])\r\n",
    "    \r\n",
    "    SRC,_ = stats.spearmanr(rank_posi, popularity)\r\n",
    "    \r\n",
    "    return SRC    "
   ],
   "outputs": [],
   "metadata": {}
  },
  {
   "cell_type": "code",
   "execution_count": 55,
   "source": [
    "get_SRC(recom_list, rank_posi, business_popular)"
   ],
   "outputs": [
    {
     "output_type": "execute_result",
     "data": {
      "text/plain": [
       "-0.31678319938220534"
      ]
     },
     "metadata": {},
     "execution_count": 55
    }
   ],
   "metadata": {}
  },
  {
   "cell_type": "code",
   "execution_count": 56,
   "source": [
    "# 这一步对于小数据集，需要10min左右\r\n",
    "# print的目的是，查看运行到哪里，可删除\r\n",
    "SRC_list = []\r\n",
    "SRC = 0\r\n",
    "pop_list = []\r\n",
    "for uid in list(dataDic.keys()):\r\n",
    "    #print(uid)\r\n",
    "    recom_list, rank_posi = recommend(uid, dataDic, business_sim_matrix,k = 20, n = 20)\r\n",
    "    SRC = get_SRC(recom_list, rank_posi, business_popular)\r\n",
    "    SRC_list.append(SRC)\r\n",
    "    \r\n",
    "PRU = -np.mean(SRC_list)"
   ],
   "outputs": [],
   "metadata": {
    "tags": []
   }
  },
  {
   "cell_type": "code",
   "execution_count": 57,
   "source": [
    "PRU"
   ],
   "outputs": [
    {
     "output_type": "execute_result",
     "data": {
      "text/plain": [
       "-0.10455556569696013"
      ]
     },
     "metadata": {},
     "execution_count": 57
    }
   ],
   "metadata": {}
  },
  {
   "cell_type": "code",
   "execution_count": 58,
   "source": [
    "len(SRC_list)"
   ],
   "outputs": [
    {
     "output_type": "execute_result",
     "data": {
      "text/plain": [
       "4090"
      ]
     },
     "metadata": {},
     "execution_count": 58
    }
   ],
   "metadata": {
    "tags": []
   }
  },
  {
   "cell_type": "code",
   "execution_count": 59,
   "source": [
    "print(np.argwhere(np.isnan(SRC_list)))"
   ],
   "outputs": [
    {
     "output_type": "stream",
     "name": "stdout",
     "text": [
      "[]\n"
     ]
    }
   ],
   "metadata": {
    "tags": []
   }
  },
  {
   "cell_type": "code",
   "execution_count": 60,
   "source": [
    "-np.sum(list(map(lambda x: 0.0 if math.isnan(x) else x, SRC_list)))/18612"
   ],
   "outputs": [
    {
     "output_type": "execute_result",
     "data": {
      "text/plain": [
       "-0.022976158591261925"
      ]
     },
     "metadata": {},
     "execution_count": 60
    }
   ],
   "metadata": {}
  },
  {
   "cell_type": "markdown",
   "source": [
    "## Plot Frequency"
   ],
   "metadata": {}
  },
  {
   "cell_type": "code",
   "execution_count": 61,
   "source": [
    "rec_business_popular = business_popular\r\n",
    "rec_freq = {}\r\n",
    "for b in rec_business_popular:\r\n",
    "    rec_freq.setdefault(b, 0)\r\n",
    "    \r\n",
    "for uid in list(dataDic.keys()):\r\n",
    "    #print(uid)\r\n",
    "    recom_list, _ = recommend(uid, dataDic, business_sim_matrix,k = 20, n = 20)\r\n",
    "    for rec in recom_list:\r\n",
    "        rec_freq[rec[0]] += 1"
   ],
   "outputs": [],
   "metadata": {}
  },
  {
   "cell_type": "code",
   "execution_count": 62,
   "source": [
    "import matplotlib.pyplot as plt\r\n",
    "\r\n",
    "x_popularity = list(rec_business_popular.values())\r\n",
    "y_recommendation_frequency = list(rec_freq.values())\r\n",
    "pop_mean = np.mean(x_popularity)\r\n",
    "rec_mean = np.mean(y_recommendation_frequency)\r\n",
    "plt.scatter(x_popularity, y_recommendation_frequency,s=30,marker='o')\r\n",
    "plt.axhline(y = rec_mean, color = \"r\", linestyle = \"-\")\r\n",
    "plt.axvline(x = pop_mean, color = \"r\", linestyle = \"-\")\r\n",
    "\r\n",
    "plt.xlabel('Movie Popularity',fontsize=12)  \r\n",
    "plt.ylabel('Recommendation frequency',fontsize=12)\r\n",
    "plt.title('ItemCF', fontsize=13)"
   ],
   "outputs": [
    {
     "output_type": "execute_result",
     "data": {
      "text/plain": [
       "Text(0.5, 1.0, 'ItemCF')"
      ]
     },
     "metadata": {},
     "execution_count": 62
    },
    {
     "output_type": "display_data",
     "data": {
      "image/png": "[encoded data removed]",
      "text/plain": [
       "<Figure size 432x288 with 1 Axes>"
      ]
     },
     "metadata": {
      "needs_background": "light"
     }
    }
   ],
   "metadata": {}
  },
  {
   "cell_type": "markdown",
   "source": [
    "## Rerank"
   ],
   "metadata": {}
  },
  {
   "cell_type": "code",
   "execution_count": 63,
   "source": [
    "# 这里先把产生推荐的那个封装成函数才能测试所有的测试样本\r\n",
    "def recommend_rerank(aim_user, data, sim_matrix, k=20, n=20):\r\n",
    "    rank ={}\r\n",
    "    rated_businesses = data[aim_user]      # 找出目标用户看到电影\r\n",
    "    \r\n",
    "    # 753\r\n",
    "    w_sum = {}\r\n",
    "    R = {}\r\n",
    "    \r\n",
    "    for business, rating in rated_businesses.items():\r\n",
    "        #遍历与物品item最相似的前k个产品，获得这些物品及相似分数\r\n",
    "        for related_business, w in sorted(sim_matrix[business].items(), key=itemgetter(1), reverse=True)[:k]:\r\n",
    "            # 若该物品用户看过， 跳过\r\n",
    "            if related_business in rated_businesses:\r\n",
    "                continue\r\n",
    "\r\n",
    "            # 计算用户user对related_business的偏好值， 初始化该值为0\r\n",
    "            rank.setdefault(related_business, 0)\r\n",
    "            w_sum.setdefault(related_business, 0)\r\n",
    "            #通过与其相似物品对物品related_business的偏好值相乘并相加。\r\n",
    "            #排名的依据—— > 推荐电影与该已看电影的相似度(累计) * 用户对已看电影的评分\r\n",
    "            rank[related_business] += w * (rating)\r\n",
    "            w_sum[related_business] += w\r\n",
    "    \r\n",
    "    # 753\r\n",
    "    for bid in rank.keys():\r\n",
    "        rank[bid] = (rank[bid] / w_sum[bid])\r\n",
    "    \r\n",
    "    #print(rank)\r\n",
    "    # 产生最后的推荐列表\r\n",
    "    result =  sorted(rank.items(), key=itemgetter(1), reverse=True)[:n]  # itemgetter(1) 是简洁写法\r\n",
    "    \r\n",
    "    rank_position = list(range(1,len(result)+1))\r\n",
    "    \r\n",
    "    return result, rank_position"
   ],
   "outputs": [],
   "metadata": {}
  },
  {
   "cell_type": "code",
   "execution_count": null,
   "source": [],
   "outputs": [],
   "metadata": {}
  }
 ],
 "metadata": {
  "kernelspec": {
   "name": "python3",
   "display_name": "Python 3.9.6 64-bit"
  },
  "language_info": {
   "codemirror_mode": {
    "name": "ipython",
    "version": 3
   },
   "file_extension": ".py",
   "mimetype": "text/x-python",
   "name": "python",
   "nbconvert_exporter": "python",
   "pygments_lexer": "ipython3",
   "version": "3.9.6"
  },
  "interpreter": {
   "hash": "4ce0e62306dd6a5716965d4519ada776f947e6dfc145b604b11307c10277ef29"
  }
 },
 "nbformat": 4,
 "nbformat_minor": 5
}