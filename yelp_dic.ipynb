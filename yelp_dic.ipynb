{
 "cells": [
  {
   "cell_type": "code",
   "execution_count": 1,
   "id": "upper-space",
   "metadata": {},
   "outputs": [
    {
     "name": "stderr",
     "output_type": "stream",
     "text": [
      "D:\\ProgramData\\Anaconda3\\envs\\venv\\lib\\site-packages\\fuzzywuzzy\\fuzz.py:11: UserWarning: Using slow pure-python SequenceMatcher. Install python-Levenshtein to remove this warning\n",
      "  warnings.warn('Using slow pure-python SequenceMatcher. Install python-Levenshtein to remove this warning')\n"
     ]
    }
   ],
   "source": [
    "import os\n",
    "import time\n",
    "\n",
    "import json\n",
    "\n",
    "from operator import itemgetter\n",
    "\n",
    "# data science imports\n",
    "import math\n",
    "import numpy as np\n",
    "import pandas as pd\n",
    "from scipy.sparse import csr_matrix\n",
    "from sklearn.neighbors import NearestNeighbors\n",
    "\n",
    "# utils import\n",
    "from fuzzywuzzy import fuzz\n",
    "\n",
    "# visualization imports\n",
    "import seaborn as sns\n",
    "import matplotlib.pyplot as plt"
   ]
  },
  {
   "cell_type": "markdown",
   "id": "cognitive-proposition",
   "metadata": {},
   "source": [
    "## Load Json Data"
   ]
  },
  {
   "cell_type": "code",
   "execution_count": 2,
   "id": "automatic-individual",
   "metadata": {},
   "outputs": [],
   "source": [
    "def read_josn (path):\n",
    "    file = open(path, \"r\", encoding = 'utf-8')\n",
    "    df = []\n",
    "    for line in file.readlines():\n",
    "        dic = json.loads(line)\n",
    "        df.append(dic)\n",
    "    return df"
   ]
  },
  {
   "cell_type": "code",
   "execution_count": 4,
   "id": "fifth-creation",
   "metadata": {},
   "outputs": [],
   "source": [
    "# load business data\n",
    "path = \"data/Peoria_Data/Peoria_business.json\"\n",
    "business_list = read_josn(path)\n",
    "# load reviews data\n",
    "path = \"data/Peoria_Data/Peoria_Review.json\"\n",
    "review_list = read_josn(path)\n",
    "# load user data\n",
    "path = \"data/Peoria_Data/Peoria_User.json\"\n",
    "user_list = read_josn(path)"
   ]
  },
  {
   "cell_type": "markdown",
   "id": "abroad-volleyball",
   "metadata": {},
   "source": [
    "## Transform to dataframe"
   ]
  },
  {
   "cell_type": "code",
   "execution_count": 5,
   "id": "distributed-truck",
   "metadata": {},
   "outputs": [
    {
     "data": {
      "text/html": [
       "<div>\n",
       "<style scoped>\n",
       "    .dataframe tbody tr th:only-of-type {\n",
       "        vertical-align: middle;\n",
       "    }\n",
       "\n",
       "    .dataframe tbody tr th {\n",
       "        vertical-align: top;\n",
       "    }\n",
       "\n",
       "    .dataframe thead th {\n",
       "        text-align: right;\n",
       "    }\n",
       "</style>\n",
       "<table border=\"1\" class=\"dataframe\">\n",
       "  <thead>\n",
       "    <tr style=\"text-align: right;\">\n",
       "      <th></th>\n",
       "      <th>RawBusinessId</th>\n",
       "      <th>businessId</th>\n",
       "      <th>title</th>\n",
       "    </tr>\n",
       "  </thead>\n",
       "  <tbody>\n",
       "    <tr>\n",
       "      <th>0</th>\n",
       "      <td>Q1GhjqlLENaT383k9Ex5wg</td>\n",
       "      <td>1</td>\n",
       "      <td>Daily Donut</td>\n",
       "    </tr>\n",
       "    <tr>\n",
       "      <th>1</th>\n",
       "      <td>cz5kBEZMHKyJ_nZXn-IRIA</td>\n",
       "      <td>2</td>\n",
       "      <td>Hall Brent R DDS</td>\n",
       "    </tr>\n",
       "    <tr>\n",
       "      <th>2</th>\n",
       "      <td>U1iF2RC18uBgBe01z5BMXw</td>\n",
       "      <td>3</td>\n",
       "      <td>Church's Chicken</td>\n",
       "    </tr>\n",
       "    <tr>\n",
       "      <th>3</th>\n",
       "      <td>9eY5ZfKPc_oz6Co5WCPynQ</td>\n",
       "      <td>4</td>\n",
       "      <td>Fullerton Financial Planning</td>\n",
       "    </tr>\n",
       "    <tr>\n",
       "      <th>4</th>\n",
       "      <td>aERMWmIT6yJVGYIn4qQizQ</td>\n",
       "      <td>5</td>\n",
       "      <td>GO AZ Motorcycles</td>\n",
       "    </tr>\n",
       "  </tbody>\n",
       "</table>\n",
       "</div>"
      ],
      "text/plain": [
       "            RawBusinessId  businessId                         title\n",
       "0  Q1GhjqlLENaT383k9Ex5wg           1                   Daily Donut\n",
       "1  cz5kBEZMHKyJ_nZXn-IRIA           2              Hall Brent R DDS\n",
       "2  U1iF2RC18uBgBe01z5BMXw           3              Church's Chicken\n",
       "3  9eY5ZfKPc_oz6Co5WCPynQ           4  Fullerton Financial Planning\n",
       "4  aERMWmIT6yJVGYIn4qQizQ           5             GO AZ Motorcycles"
      ]
     },
     "execution_count": 5,
     "metadata": {},
     "output_type": "execute_result"
    }
   ],
   "source": [
    "# business list into dataframe\n",
    "df_business = pd.DataFrame()\n",
    "business_id = []\n",
    "name = []\n",
    "for element in business_list:\n",
    "    business_id.append(element[\"business_id\"])\n",
    "    name.append(element[\"name\"])\n",
    "\n",
    "Business_Num_Id = {}\n",
    "U = 1\n",
    "B = 1\n",
    "Business_Id = []\n",
    "for index in range(len(business_id)):\n",
    "    if business_id[index] not in Business_Num_Id.keys():\n",
    "        Business_Num_Id[business_id[index]] = B\n",
    "        B = B + 1\n",
    "    Business_Id.append(Business_Num_Id[business_id[index]])\n",
    "    \n",
    "\n",
    "df_business[\"RawBusinessId\"] = business_id\n",
    "df_business[\"businessId\"] = Business_Id\n",
    "df_business[\"title\"] = name\n",
    "\n",
    "df_business.head()"
   ]
  },
  {
   "cell_type": "code",
   "execution_count": 6,
   "id": "impressive-equivalent",
   "metadata": {},
   "outputs": [
    {
     "data": {
      "text/html": [
       "<div>\n",
       "<style scoped>\n",
       "    .dataframe tbody tr th:only-of-type {\n",
       "        vertical-align: middle;\n",
       "    }\n",
       "\n",
       "    .dataframe tbody tr th {\n",
       "        vertical-align: top;\n",
       "    }\n",
       "\n",
       "    .dataframe thead th {\n",
       "        text-align: right;\n",
       "    }\n",
       "</style>\n",
       "<table border=\"1\" class=\"dataframe\">\n",
       "  <thead>\n",
       "    <tr style=\"text-align: right;\">\n",
       "      <th></th>\n",
       "      <th>RawUserId</th>\n",
       "      <th>UserId</th>\n",
       "      <th>name</th>\n",
       "    </tr>\n",
       "  </thead>\n",
       "  <tbody>\n",
       "    <tr>\n",
       "      <th>0</th>\n",
       "      <td>eSlOI3GhroEtcbaD_nFXJQ</td>\n",
       "      <td>1</td>\n",
       "      <td>Jason</td>\n",
       "    </tr>\n",
       "    <tr>\n",
       "      <th>1</th>\n",
       "      <td>U4INQZOPSUaj8hMjLlZ3KA</td>\n",
       "      <td>2</td>\n",
       "      <td>Michael</td>\n",
       "    </tr>\n",
       "    <tr>\n",
       "      <th>2</th>\n",
       "      <td>xZAmw5gihOVO4duMN2Ju6Q</td>\n",
       "      <td>3</td>\n",
       "      <td>Flynn</td>\n",
       "    </tr>\n",
       "    <tr>\n",
       "      <th>3</th>\n",
       "      <td>F78tJHr0qW6FsYBtWMmLpA</td>\n",
       "      <td>4</td>\n",
       "      <td>Christopher</td>\n",
       "    </tr>\n",
       "    <tr>\n",
       "      <th>4</th>\n",
       "      <td>TUE3NJYN4i7xyGVSIXMLvw</td>\n",
       "      <td>5</td>\n",
       "      <td>Kymberly</td>\n",
       "    </tr>\n",
       "  </tbody>\n",
       "</table>\n",
       "</div>"
      ],
      "text/plain": [
       "                RawUserId  UserId         name\n",
       "0  eSlOI3GhroEtcbaD_nFXJQ       1        Jason\n",
       "1  U4INQZOPSUaj8hMjLlZ3KA       2      Michael\n",
       "2  xZAmw5gihOVO4duMN2Ju6Q       3        Flynn\n",
       "3  F78tJHr0qW6FsYBtWMmLpA       4  Christopher\n",
       "4  TUE3NJYN4i7xyGVSIXMLvw       5     Kymberly"
      ]
     },
     "execution_count": 6,
     "metadata": {},
     "output_type": "execute_result"
    }
   ],
   "source": [
    "# User list into dataframe\n",
    "df_user = pd.DataFrame()\n",
    "user_id = []\n",
    "name = []\n",
    "for element in user_list:\n",
    "    user_id.append(element[\"user_id\"])\n",
    "    name.append(element[\"name\"])\n",
    "\n",
    "User_Num_Id = {}\n",
    "U = 1\n",
    "User_Id = []\n",
    "for index in range(len(user_id)):\n",
    "    if user_id[index] not in User_Num_Id.keys():\n",
    "        User_Num_Id[user_id[index]] = U\n",
    "        U = U + 1\n",
    "    User_Id.append(User_Num_Id[user_id[index]])\n",
    "    \n",
    "df_user[\"RawUserId\"] = user_id\n",
    "df_user[\"UserId\"] = User_Id\n",
    "df_user[\"name\"] = name\n",
    "\n",
    "df_user.head()"
   ]
  },
  {
   "cell_type": "code",
   "execution_count": 7,
   "id": "massive-jungle",
   "metadata": {},
   "outputs": [
    {
     "data": {
      "text/html": [
       "<div>\n",
       "<style scoped>\n",
       "    .dataframe tbody tr th:only-of-type {\n",
       "        vertical-align: middle;\n",
       "    }\n",
       "\n",
       "    .dataframe tbody tr th {\n",
       "        vertical-align: top;\n",
       "    }\n",
       "\n",
       "    .dataframe thead th {\n",
       "        text-align: right;\n",
       "    }\n",
       "</style>\n",
       "<table border=\"1\" class=\"dataframe\">\n",
       "  <thead>\n",
       "    <tr style=\"text-align: right;\">\n",
       "      <th></th>\n",
       "      <th>userId</th>\n",
       "      <th>businessId</th>\n",
       "      <th>rating</th>\n",
       "    </tr>\n",
       "  </thead>\n",
       "  <tbody>\n",
       "    <tr>\n",
       "      <th>0</th>\n",
       "      <td>5042</td>\n",
       "      <td>153</td>\n",
       "      <td>5.0</td>\n",
       "    </tr>\n",
       "    <tr>\n",
       "      <th>1</th>\n",
       "      <td>5763</td>\n",
       "      <td>50</td>\n",
       "      <td>5.0</td>\n",
       "    </tr>\n",
       "    <tr>\n",
       "      <th>2</th>\n",
       "      <td>79</td>\n",
       "      <td>58</td>\n",
       "      <td>1.0</td>\n",
       "    </tr>\n",
       "    <tr>\n",
       "      <th>3</th>\n",
       "      <td>6284</td>\n",
       "      <td>63</td>\n",
       "      <td>5.0</td>\n",
       "    </tr>\n",
       "    <tr>\n",
       "      <th>4</th>\n",
       "      <td>4844</td>\n",
       "      <td>130</td>\n",
       "      <td>2.0</td>\n",
       "    </tr>\n",
       "  </tbody>\n",
       "</table>\n",
       "</div>"
      ],
      "text/plain": [
       "   userId  businessId  rating\n",
       "0    5042         153     5.0\n",
       "1    5763          50     5.0\n",
       "2      79          58     1.0\n",
       "3    6284          63     5.0\n",
       "4    4844         130     2.0"
      ]
     },
     "execution_count": 7,
     "metadata": {},
     "output_type": "execute_result"
    }
   ],
   "source": [
    "# review list into dataframe\n",
    "df_ratings = pd.DataFrame()\n",
    "#review_id = []\n",
    "user_id = []\n",
    "business_id = []\n",
    "ratings = []\n",
    "for element in review_list:\n",
    "    uid = User_Num_Id[element[\"user_id\"]]\n",
    "    bid = Business_Num_Id[element[\"business_id\"]]\n",
    "    \n",
    "    user_id.append(uid)\n",
    "    business_id.append(bid)\n",
    "    ratings.append(element[\"stars\"])\n",
    "\n",
    "#df_ratings[\"review_id\"] = review_id\n",
    "df_ratings[\"userId\"] = user_id\n",
    "df_ratings[\"businessId\"] = business_id\n",
    "df_ratings[\"rating\"] = ratings\n",
    "\n",
    "df_ratings.head()"
   ]
  },
  {
   "cell_type": "markdown",
   "id": "italic-smart",
   "metadata": {},
   "source": [
    "## Filter Data"
   ]
  },
  {
   "cell_type": "markdown",
   "id": "potential-granny",
   "metadata": {},
   "source": [
    "### For Business"
   ]
  },
  {
   "cell_type": "code",
   "execution_count": 8,
   "id": "applicable-marker",
   "metadata": {},
   "outputs": [
    {
     "data": {
      "text/html": [
       "<div>\n",
       "<style scoped>\n",
       "    .dataframe tbody tr th:only-of-type {\n",
       "        vertical-align: middle;\n",
       "    }\n",
       "\n",
       "    .dataframe tbody tr th {\n",
       "        vertical-align: top;\n",
       "    }\n",
       "\n",
       "    .dataframe thead th {\n",
       "        text-align: right;\n",
       "    }\n",
       "</style>\n",
       "<table border=\"1\" class=\"dataframe\">\n",
       "  <thead>\n",
       "    <tr style=\"text-align: right;\">\n",
       "      <th></th>\n",
       "      <th>count</th>\n",
       "    </tr>\n",
       "    <tr>\n",
       "      <th>businessId</th>\n",
       "      <th></th>\n",
       "    </tr>\n",
       "  </thead>\n",
       "  <tbody>\n",
       "    <tr>\n",
       "      <th>1</th>\n",
       "      <td>33</td>\n",
       "    </tr>\n",
       "    <tr>\n",
       "      <th>2</th>\n",
       "      <td>4</td>\n",
       "    </tr>\n",
       "    <tr>\n",
       "      <th>3</th>\n",
       "      <td>3</td>\n",
       "    </tr>\n",
       "    <tr>\n",
       "      <th>4</th>\n",
       "      <td>4</td>\n",
       "    </tr>\n",
       "    <tr>\n",
       "      <th>5</th>\n",
       "      <td>44</td>\n",
       "    </tr>\n",
       "  </tbody>\n",
       "</table>\n",
       "</div>"
      ],
      "text/plain": [
       "            count\n",
       "businessId       \n",
       "1              33\n",
       "2               4\n",
       "3               3\n",
       "4               4\n",
       "5              44"
      ]
     },
     "execution_count": 8,
     "metadata": {},
     "output_type": "execute_result"
    }
   ],
   "source": [
    "# get rating frequency\n",
    "df_business_cnt = pd.DataFrame(df_ratings.groupby('businessId').size(), columns=['count'])\n",
    "df_business_cnt.head()"
   ]
  },
  {
   "cell_type": "code",
   "execution_count": 9,
   "id": "horizontal-break",
   "metadata": {},
   "outputs": [
    {
     "data": {
      "text/plain": [
       "1.00    620.0\n",
       "0.95    124.2\n",
       "0.90     71.0\n",
       "0.85     46.0\n",
       "0.80     34.0\n",
       "0.75     27.0\n",
       "0.70     21.0\n",
       "0.65     18.0\n",
       "Name: count, dtype: float64"
      ]
     },
     "execution_count": 9,
     "metadata": {},
     "output_type": "execute_result"
    }
   ],
   "source": [
    "# top quantiles of rating counts\n",
    "df_business_cnt['count'].quantile(np.arange(1, 0.6, -0.05))"
   ]
  },
  {
   "cell_type": "code",
   "execution_count": 10,
   "id": "involved-probe",
   "metadata": {},
   "outputs": [
    {
     "name": "stdout",
     "output_type": "stream",
     "text": [
      "shape of original ratings data:  (57857, 3)\n",
      "shape of ratings data after dropping unpopular business:  (53338, 3)\n"
     ]
    }
   ],
   "source": [
    "# filter data - movies count less than 20\n",
    "popularity_thres = 10\n",
    "popular_business = list(set(df_business_cnt.query('count >= @popularity_thres').index))\n",
    "df_ratings_drop_business = df_ratings[df_ratings.businessId.isin(popular_business)]\n",
    "print('shape of original ratings data: ', df_ratings.shape)\n",
    "print('shape of ratings data after dropping unpopular business: ', df_ratings_drop_business.shape)"
   ]
  },
  {
   "cell_type": "markdown",
   "id": "civilian-spiritual",
   "metadata": {},
   "source": [
    "### For Users"
   ]
  },
  {
   "cell_type": "code",
   "execution_count": 11,
   "id": "pleasant-thompson",
   "metadata": {},
   "outputs": [
    {
     "data": {
      "text/html": [
       "<div>\n",
       "<style scoped>\n",
       "    .dataframe tbody tr th:only-of-type {\n",
       "        vertical-align: middle;\n",
       "    }\n",
       "\n",
       "    .dataframe tbody tr th {\n",
       "        vertical-align: top;\n",
       "    }\n",
       "\n",
       "    .dataframe thead th {\n",
       "        text-align: right;\n",
       "    }\n",
       "</style>\n",
       "<table border=\"1\" class=\"dataframe\">\n",
       "  <thead>\n",
       "    <tr style=\"text-align: right;\">\n",
       "      <th></th>\n",
       "      <th>count</th>\n",
       "    </tr>\n",
       "    <tr>\n",
       "      <th>userId</th>\n",
       "      <th></th>\n",
       "    </tr>\n",
       "  </thead>\n",
       "  <tbody>\n",
       "    <tr>\n",
       "      <th>1</th>\n",
       "      <td>1</td>\n",
       "    </tr>\n",
       "    <tr>\n",
       "      <th>2</th>\n",
       "      <td>2</td>\n",
       "    </tr>\n",
       "    <tr>\n",
       "      <th>3</th>\n",
       "      <td>6</td>\n",
       "    </tr>\n",
       "    <tr>\n",
       "      <th>4</th>\n",
       "      <td>10</td>\n",
       "    </tr>\n",
       "    <tr>\n",
       "      <th>6</th>\n",
       "      <td>7</td>\n",
       "    </tr>\n",
       "  </tbody>\n",
       "</table>\n",
       "</div>"
      ],
      "text/plain": [
       "        count\n",
       "userId       \n",
       "1           1\n",
       "2           2\n",
       "3           6\n",
       "4          10\n",
       "6           7"
      ]
     },
     "execution_count": 11,
     "metadata": {},
     "output_type": "execute_result"
    }
   ],
   "source": [
    "# get number of ratings given by every user\n",
    "df_users_cnt = pd.DataFrame(df_ratings_drop_business.groupby('userId').size(), columns=['count'])\n",
    "df_users_cnt.head()"
   ]
  },
  {
   "cell_type": "code",
   "execution_count": 12,
   "id": "responsible-newcastle",
   "metadata": {},
   "outputs": [
    {
     "data": {
      "text/plain": [
       "1.00    109.0\n",
       "0.95      5.0\n",
       "0.90      3.0\n",
       "0.85      2.0\n",
       "0.80      2.0\n",
       "0.75      2.0\n",
       "0.70      1.0\n",
       "0.65      1.0\n",
       "0.60      1.0\n",
       "0.55      1.0\n",
       "Name: count, dtype: float64"
      ]
     },
     "execution_count": 12,
     "metadata": {},
     "output_type": "execute_result"
    }
   ],
   "source": [
    "df_users_cnt['count'].quantile(np.arange(1, 0.5, -0.05))"
   ]
  },
  {
   "cell_type": "code",
   "execution_count": 17,
   "id": "psychological-anniversary",
   "metadata": {},
   "outputs": [
    {
     "name": "stdout",
     "output_type": "stream",
     "text": [
      "shape of original ratings data:  (57857, 3)\n",
      "shape of ratings data after dropping both unpopular business and inactive users:  (32281, 3)\n"
     ]
    }
   ],
   "source": [
    "# filter data\n",
    "ratings_thres = 2\n",
    "active_users = list(set(df_users_cnt.query('count >= @ratings_thres').index))\n",
    "df_ratings_drop_users = df_ratings_drop_business[df_ratings_drop_business.userId.isin(active_users)]\n",
    "print('shape of original ratings data: ', df_ratings.shape)\n",
    "print('shape of ratings data after dropping both unpopular business and inactive users: ', df_ratings_drop_users.shape)"
   ]
  },
  {
   "cell_type": "code",
   "execution_count": 18,
   "id": "becoming-exhaust",
   "metadata": {},
   "outputs": [
    {
     "data": {
      "text/html": [
       "<div>\n",
       "<style scoped>\n",
       "    .dataframe tbody tr th:only-of-type {\n",
       "        vertical-align: middle;\n",
       "    }\n",
       "\n",
       "    .dataframe tbody tr th {\n",
       "        vertical-align: top;\n",
       "    }\n",
       "\n",
       "    .dataframe thead th {\n",
       "        text-align: right;\n",
       "    }\n",
       "</style>\n",
       "<table border=\"1\" class=\"dataframe\">\n",
       "  <thead>\n",
       "    <tr style=\"text-align: right;\">\n",
       "      <th></th>\n",
       "      <th>userId</th>\n",
       "      <th>businessId</th>\n",
       "      <th>rating</th>\n",
       "    </tr>\n",
       "  </thead>\n",
       "  <tbody>\n",
       "    <tr>\n",
       "      <th>0</th>\n",
       "      <td>79</td>\n",
       "      <td>58</td>\n",
       "      <td>1.0</td>\n",
       "    </tr>\n",
       "    <tr>\n",
       "      <th>1</th>\n",
       "      <td>4844</td>\n",
       "      <td>130</td>\n",
       "      <td>2.0</td>\n",
       "    </tr>\n",
       "    <tr>\n",
       "      <th>2</th>\n",
       "      <td>1598</td>\n",
       "      <td>78</td>\n",
       "      <td>5.0</td>\n",
       "    </tr>\n",
       "    <tr>\n",
       "      <th>3</th>\n",
       "      <td>3163</td>\n",
       "      <td>16</td>\n",
       "      <td>3.0</td>\n",
       "    </tr>\n",
       "    <tr>\n",
       "      <th>4</th>\n",
       "      <td>4758</td>\n",
       "      <td>88</td>\n",
       "      <td>4.0</td>\n",
       "    </tr>\n",
       "    <tr>\n",
       "      <th>...</th>\n",
       "      <td>...</td>\n",
       "      <td>...</td>\n",
       "      <td>...</td>\n",
       "    </tr>\n",
       "    <tr>\n",
       "      <th>32276</th>\n",
       "      <td>22959</td>\n",
       "      <td>1821</td>\n",
       "      <td>1.0</td>\n",
       "    </tr>\n",
       "    <tr>\n",
       "      <th>32277</th>\n",
       "      <td>15889</td>\n",
       "      <td>1740</td>\n",
       "      <td>4.0</td>\n",
       "    </tr>\n",
       "    <tr>\n",
       "      <th>32278</th>\n",
       "      <td>3020</td>\n",
       "      <td>1831</td>\n",
       "      <td>5.0</td>\n",
       "    </tr>\n",
       "    <tr>\n",
       "      <th>32279</th>\n",
       "      <td>4671</td>\n",
       "      <td>1831</td>\n",
       "      <td>5.0</td>\n",
       "    </tr>\n",
       "    <tr>\n",
       "      <th>32280</th>\n",
       "      <td>11974</td>\n",
       "      <td>1739</td>\n",
       "      <td>4.0</td>\n",
       "    </tr>\n",
       "  </tbody>\n",
       "</table>\n",
       "<p>32281 rows × 3 columns</p>\n",
       "</div>"
      ],
      "text/plain": [
       "       userId  businessId  rating\n",
       "0          79          58     1.0\n",
       "1        4844         130     2.0\n",
       "2        1598          78     5.0\n",
       "3        3163          16     3.0\n",
       "4        4758          88     4.0\n",
       "...       ...         ...     ...\n",
       "32276   22959        1821     1.0\n",
       "32277   15889        1740     4.0\n",
       "32278    3020        1831     5.0\n",
       "32279    4671        1831     5.0\n",
       "32280   11974        1739     4.0\n",
       "\n",
       "[32281 rows x 3 columns]"
      ]
     },
     "execution_count": 18,
     "metadata": {},
     "output_type": "execute_result"
    }
   ],
   "source": [
    "df_ratings_drop_users.index = list(range(0, df_ratings_drop_users.shape[0]))\n",
    "df_ratings_drop_users"
   ]
  },
  {
   "cell_type": "code",
   "execution_count": 19,
   "id": "bottom-wyoming",
   "metadata": {},
   "outputs": [
    {
     "name": "stdout",
     "output_type": "stream",
     "text": [
      "There are 8393 unique users and 1016 unique movies in this data set\n"
     ]
    }
   ],
   "source": [
    "# the number of users and movies\n",
    "num_users = len(df_ratings_drop_users.userId.unique())\n",
    "num_items = len(df_ratings_drop_users.businessId.unique())\n",
    "print('There are {} unique users and {} unique movies in this data set'.format(num_users, num_items))"
   ]
  },
  {
   "cell_type": "markdown",
   "id": "trained-centre",
   "metadata": {},
   "source": [
    "## Transform dataframe to dictionary"
   ]
  },
  {
   "cell_type": "code",
   "execution_count": 20,
   "id": "molecular-stamp",
   "metadata": {},
   "outputs": [
    {
     "name": "stdout",
     "output_type": "stream",
     "text": [
      "dataDic = 32281\n"
     ]
    }
   ],
   "source": [
    "dataDic = {}\n",
    "dataDic_len = 0\n",
    "# 遍历data的每一行， 把userId, movidId, rating按照{user: {movidId: rating}}的方式存储， 当然定义一个随机种子进行数据集划分\n",
    "for ele in df_ratings_drop_users.itertuples():   # 遍历行这里推荐用itertuples， 比iterrows会高效很多\n",
    "    user, business, rating = getattr(ele, 'userId'), getattr(ele, 'businessId'), getattr(ele, 'rating')\n",
    "    \n",
    "    dataDic.setdefault(user, {})\n",
    "    dataDic[user][business] = rating\n",
    "    dataDic_len += 1\n",
    "    \n",
    "print('dataDic = %s' % dataDic_len)"
   ]
  },
  {
   "cell_type": "code",
   "execution_count": null,
   "id": "proprietary-hopkins",
   "metadata": {
    "tags": []
   },
   "outputs": [],
   "source": [
    "dataDic.keys()"
   ]
  },
  {
   "cell_type": "markdown",
   "id": "exciting-butterfly",
   "metadata": {},
   "source": [
    "## Get Similarity"
   ]
  },
  {
   "cell_type": "code",
   "execution_count": 38,
   "id": "removed-louisville",
   "metadata": {},
   "outputs": [
    {
     "name": "stdout",
     "output_type": "stream",
     "text": [
      "Total business number = 1016\n",
      "Build user co-rated movies matrix ...\n",
      "Build user co-rated businesses matrix success!\n",
      "Calculating movies similarity matrix ...\n",
      "Calculate movies similarity matrix success!\n"
     ]
    }
   ],
   "source": [
    "# 计算每部电影的流行程度, 也就是每部电影被用户看的总次数， 这个衡量相似度的时候作为分母\n",
    "business_popular = {}\n",
    "for user, businesses in dataDic.items():   # 这里的user就是每个用户， movies还是个字典， {movieID: rating}\n",
    "    for business in businesses:       # 这里的movie就是movieID了\n",
    "        if business not in business_popular:     \n",
    "            business_popular[business] = 0  \n",
    "        business_popular[business] += 1\n",
    "\n",
    "\n",
    "business_count = len(business_popular)\n",
    "print('Total business number = %d' % business_count)\n",
    "\n",
    "\n",
    "# 下面建立电影相似矩阵\n",
    "print('Build user co-rated movies matrix ...')\n",
    "business_sim_matrix = {}\n",
    "for user, businesses in dataDic.items():     # 注意这个地方与UserCF的不同\n",
    "    for b1 in businesses:           # 对于每个电影， 都得双层遍历\n",
    "        for b2 in businesses:\n",
    "            if b1 == b2:\n",
    "                continue\n",
    "            business_sim_matrix.setdefault(b1, {})      # 把字典的值设置为字典的形式\n",
    "            business_sim_matrix[b1].setdefault(b2, 0)\n",
    "            business_sim_matrix[b1][b2] += 1     # 这里统计两个电影被同一个用户产生行为的次数， 这个就是余弦相似度的分子\n",
    "            \n",
    "print('Build user co-rated businesses matrix success!')\n",
    "\n",
    "\n",
    "# 下面计算电影之间的相似性\n",
    "print('Calculating movies similarity matrix ...')\n",
    "for b1, related_businesses in business_sim_matrix.items():\n",
    "    for b2, count in related_businesses.items():    # 这里面m2是相关电影， count是共同被同一个用户打分的次数\n",
    "        # 这里注意零向量的处理， 即某电影的用户数为0\n",
    "        if business_popular[b1] == 0  or business_popular[b2] == 0:\n",
    "            business_sim_matrix[b1][b2] = 0\n",
    "        else:\n",
    "            business_sim_matrix[b1][b2] = count / math.sqrt(business_popular[b1] * business_popular[b2]) \n",
    "            \n",
    "print('Calculate movies similarity matrix success!')"
   ]
  },
  {
   "cell_type": "code",
   "execution_count": 48,
   "id": "assured-visiting",
   "metadata": {
    "tags": []
   },
   "outputs": [],
   "source": [
    "# 这里先把产生推荐的那个封装成函数才能测试所有的测试样本\n",
    "def recommend(aim_user, data, sim_matrix, k=20, n=20):\n",
    "    rank ={}\n",
    "    rated_businesses = data[aim_user]      # 找出目标用户看到电影\n",
    "    \n",
    "    # 753\n",
    "    w_sum = {}\n",
    "    R = {}\n",
    "    \n",
    "    for business, rating in rated_businesses.items():\n",
    "        #遍历与物品item最相似的前k个产品，获得这些物品及相似分数\n",
    "        for related_business, w in sorted(sim_matrix[business].items(), key=itemgetter(1), reverse=True)[:k]:\n",
    "            # 若该物品用户看过， 跳过\n",
    "            if related_business in rated_businesses:\n",
    "                continue\n",
    "\n",
    "            # 计算用户user对related_business的偏好值， 初始化该值为0\n",
    "            rank.setdefault(related_business, 0)\n",
    "            #通过与其相似物品对物品related_business的偏好值相乘并相加。\n",
    "            #排名的依据—— > 推荐电影与该已看电影的相似度(累计) * 用户对已看电影的评分\n",
    "            rank[related_business] += w * float(rating)\n",
    "    \n",
    "    # 产生最后的推荐列表\n",
    "    result =  sorted(rank.items(), key=itemgetter(1), reverse=True)[:n]  # itemgetter(1) 是简洁写法\n",
    "    \n",
    "    rank_position = list(range(len(result)))\n",
    "    \n",
    "    return result, rank_position"
   ]
  },
  {
   "cell_type": "markdown",
   "id": "dominican-annotation",
   "metadata": {},
   "source": [
    "#### 一个例子"
   ]
  },
  {
   "cell_type": "code",
   "execution_count": 49,
   "id": "structured-setting",
   "metadata": {},
   "outputs": [],
   "source": [
    "aim_user = 1202\n",
    "recom_list, rank_posi = recommend(aim_user, dataDic, business_sim_matrix)"
   ]
  },
  {
   "cell_type": "code",
   "execution_count": 50,
   "id": "abstract-antibody",
   "metadata": {},
   "outputs": [
    {
     "data": {
      "text/plain": [
       "[(1002, 0.5555510285603042),\n",
       " (1717, 0.4720908403610231),\n",
       " (284, 0.47150240839898494),\n",
       " (262, 0.4074108571913334),\n",
       " (1236, 0.4068746026617149),\n",
       " (936, 0.37171128201453396),\n",
       " (554, 0.3474411464169823),\n",
       " (1837, 0.34691329926842285),\n",
       " (312, 0.30534353162371025),\n",
       " (1891, 0.2975975299507521),\n",
       " (1464, 0.29417420270727607),\n",
       " (748, 0.2699527623995085),\n",
       " (919, 0.2672861022670582),\n",
       " (441, 0.2613541867446584),\n",
       " (1378, 0.2602485194454143),\n",
       " (881, 0.2584542794136979),\n",
       " (1514, 0.2508726030021272),\n",
       " (1124, 0.25058072087536704),\n",
       " (895, 0.24027781497213452),\n",
       " (659, 0.23624976928744731)]"
      ]
     },
     "execution_count": 50,
     "metadata": {},
     "output_type": "execute_result"
    }
   ],
   "source": [
    "recom_list"
   ]
  },
  {
   "cell_type": "code",
   "execution_count": 51,
   "id": "secret-recipient",
   "metadata": {},
   "outputs": [
    {
     "data": {
      "text/plain": [
       "[0, 1, 2, 3, 4, 5, 6, 7, 8, 9, 10, 11, 12, 13, 14, 15, 16, 17, 18, 19]"
      ]
     },
     "execution_count": 51,
     "metadata": {},
     "output_type": "execute_result"
    }
   ],
   "source": [
    "rank_posi"
   ]
  },
  {
   "cell_type": "markdown",
   "id": "pharmaceutical-danger",
   "metadata": {},
   "source": [
    "## PRU"
   ]
  },
  {
   "cell_type": "code",
   "execution_count": 52,
   "id": "corporate-aging",
   "metadata": {},
   "outputs": [],
   "source": [
    "from scipy import stats\n",
    "\n",
    "def get_SRC(recom_list, rank_posi, business_popular):\n",
    "    # popularity list\n",
    "    popularity = []\n",
    "    for bid, rating in recom_list:\n",
    "        popularity.append(business_popular[bid])\n",
    "    \n",
    "    SRC,_ = stats.spearmanr(rank_posi, popularity)\n",
    "    \n",
    "    return SRC    "
   ]
  },
  {
   "cell_type": "code",
   "execution_count": 53,
   "id": "buried-begin",
   "metadata": {},
   "outputs": [
    {
     "data": {
      "text/plain": [
       "-0.14904036598446474"
      ]
     },
     "execution_count": 53,
     "metadata": {},
     "output_type": "execute_result"
    }
   ],
   "source": [
    "get_SRC(recom_list, rank_posi, business_popular)"
   ]
  },
  {
   "cell_type": "code",
   "execution_count": 54,
   "id": "interested-information",
   "metadata": {
    "tags": []
   },
   "outputs": [],
   "source": [
    "# 这一步对于小数据集，需要10min左右\n",
    "# print的目的是，查看运行到哪里，可删除\n",
    "SRC_list = []\n",
    "SRC = 0\n",
    "pop_list = []\n",
    "for uid in list(dataDic.keys()):\n",
    "    #print(uid)\n",
    "    recom_list, rank_posi = recommend(uid, dataDic, business_sim_matrix,k = 500, n = 500)\n",
    "    SRC = get_SRC(recom_list, rank_posi, business_popular)\n",
    "    SRC_list.append(SRC)\n",
    "    \n",
    "PRU = -np.mean(SRC_list)"
   ]
  },
  {
   "cell_type": "code",
   "execution_count": 55,
   "id": "beneficial-convention",
   "metadata": {},
   "outputs": [
    {
     "data": {
      "text/plain": [
       "nan"
      ]
     },
     "execution_count": 55,
     "metadata": {},
     "output_type": "execute_result"
    }
   ],
   "source": [
    "PRU"
   ]
  },
  {
   "cell_type": "code",
   "execution_count": 56,
   "id": "yellow-inflation",
   "metadata": {
    "tags": []
   },
   "outputs": [
    {
     "data": {
      "text/plain": [
       "8393"
      ]
     },
     "execution_count": 56,
     "metadata": {},
     "output_type": "execute_result"
    }
   ],
   "source": [
    "len(SRC_list)"
   ]
  },
  {
   "cell_type": "code",
   "execution_count": 57,
   "id": "reflected-marathon",
   "metadata": {
    "tags": []
   },
   "outputs": [
    {
     "name": "stdout",
     "output_type": "stream",
     "text": [
      "[[5466]\n",
      " [7724]\n",
      " [7727]\n",
      " [7875]]\n"
     ]
    }
   ],
   "source": [
    "print(np.argwhere(np.isnan(SRC_list)))"
   ]
  },
  {
   "cell_type": "code",
   "execution_count": 58,
   "id": "competent-defense",
   "metadata": {},
   "outputs": [
    {
     "data": {
      "text/plain": [
       "0.039631979358876926"
      ]
     },
     "execution_count": 58,
     "metadata": {},
     "output_type": "execute_result"
    }
   ],
   "source": [
    "-np.sum(list(map(lambda x: 0.0 if math.isnan(x) else x, SRC_list)))/8389"
   ]
  }
 ],
 "metadata": {
  "kernelspec": {
   "display_name": "Python 3",
   "language": "python",
   "name": "python3"
  },
  "language_info": {
   "codemirror_mode": {
    "name": "ipython",
    "version": 3
   },
   "file_extension": ".py",
   "mimetype": "text/x-python",
   "name": "python",
   "nbconvert_exporter": "python",
   "pygments_lexer": "ipython3",
   "version": "3.9.2"
  }
 },
 "nbformat": 4,
 "nbformat_minor": 5
}
