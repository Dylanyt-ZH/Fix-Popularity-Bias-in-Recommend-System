{
 "cells": [
  {
   "cell_type": "code",
   "execution_count": 8,
   "source": [
    "import json\r\n",
    "import pandas as pd\r\n"
   ],
   "outputs": [],
   "metadata": {}
  },
  {
   "cell_type": "code",
   "execution_count": 33,
   "source": [
    "def read_data(path):\r\n",
    "    rawdata=[]\r\n",
    "    with open(path,\"r\",encoding=\"utf8\") as infile:\r\n",
    "        while True:\r\n",
    "            linestr=infile.readline()\r\n",
    "            if not linestr:\r\n",
    "                break\r\n",
    "            line=json.loads(linestr)\r\n",
    "            rawdata.append(line)\r\n",
    "    infile.close()\r\n",
    "    return rawdata\r\n",
    "        "
   ],
   "outputs": [],
   "metadata": {}
  },
  {
   "cell_type": "code",
   "execution_count": 36,
   "source": [
    "User_Path=\"dataset\\Peoria_Data\\Peoria_User.json\"\r\n",
    "Review_Path=\"dataset\\Peoria_Data\\Peoria_Review.json\"\r\n",
    "Business_Path=\"dataset\\Peoria_Data\\Peoria_business.json\"\r\n",
    "Business_raw_data=read_data(Business_Path)\r\n",
    "User_raw_data=read_data(User_Path)\r\n",
    "Review_raw_data=read_data(Review_Path)\r\n"
   ],
   "outputs": [],
   "metadata": {}
  },
  {
   "cell_type": "code",
   "execution_count": 44,
   "source": [
    "# Pre-processing the business data\r\n",
    "Business_ids=[]\r\n",
    "Business_names=[]\r\n",
    "for shop in Business_raw_data:\r\n",
    "    Business_ids.append(shop[\"business_id\"])\r\n",
    "    Business_names.append(shop[\"name\"])\r\n",
    "Business_df=pd.DataFrame()\r\n",
    "Business_df[\"business_id\"]=Business_ids\r\n",
    "Business_df[\"name\"]=Business_names\r\n",
    "\r\n",
    "\r\n",
    "\r\n",
    "#Pre-processing the User data\r\n",
    "User_ids=[]\r\n",
    "User_names=[]\r\n",
    "User_Review_Counts=[]\r\n",
    "for user in User_raw_data:\r\n",
    "    User_ids.append(user[\"name\"])\r\n",
    "    User_names.append(user[\"name\"])\r\n",
    "    User_ids.append(user[\"name\"])"
   ],
   "outputs": [
    {
     "output_type": "execute_result",
     "data": {
      "text/html": [
       "<div>\n",
       "<style scoped>\n",
       "    .dataframe tbody tr th:only-of-type {\n",
       "        vertical-align: middle;\n",
       "    }\n",
       "\n",
       "    .dataframe tbody tr th {\n",
       "        vertical-align: top;\n",
       "    }\n",
       "\n",
       "    .dataframe thead th {\n",
       "        text-align: right;\n",
       "    }\n",
       "</style>\n",
       "<table border=\"1\" class=\"dataframe\">\n",
       "  <thead>\n",
       "    <tr style=\"text-align: right;\">\n",
       "      <th></th>\n",
       "      <th>business_id</th>\n",
       "      <th>name</th>\n",
       "    </tr>\n",
       "  </thead>\n",
       "  <tbody>\n",
       "    <tr>\n",
       "      <th>0</th>\n",
       "      <td>Q1GhjqlLENaT383k9Ex5wg</td>\n",
       "      <td>Daily Donut</td>\n",
       "    </tr>\n",
       "    <tr>\n",
       "      <th>1</th>\n",
       "      <td>cz5kBEZMHKyJ_nZXn-IRIA</td>\n",
       "      <td>Hall Brent R DDS</td>\n",
       "    </tr>\n",
       "    <tr>\n",
       "      <th>2</th>\n",
       "      <td>U1iF2RC18uBgBe01z5BMXw</td>\n",
       "      <td>Church's Chicken</td>\n",
       "    </tr>\n",
       "    <tr>\n",
       "      <th>3</th>\n",
       "      <td>9eY5ZfKPc_oz6Co5WCPynQ</td>\n",
       "      <td>Fullerton Financial Planning</td>\n",
       "    </tr>\n",
       "    <tr>\n",
       "      <th>4</th>\n",
       "      <td>aERMWmIT6yJVGYIn4qQizQ</td>\n",
       "      <td>GO AZ Motorcycles</td>\n",
       "    </tr>\n",
       "  </tbody>\n",
       "</table>\n",
       "</div>"
      ],
      "text/plain": [
       "              business_id                          name\n",
       "0  Q1GhjqlLENaT383k9Ex5wg                   Daily Donut\n",
       "1  cz5kBEZMHKyJ_nZXn-IRIA              Hall Brent R DDS\n",
       "2  U1iF2RC18uBgBe01z5BMXw              Church's Chicken\n",
       "3  9eY5ZfKPc_oz6Co5WCPynQ  Fullerton Financial Planning\n",
       "4  aERMWmIT6yJVGYIn4qQizQ             GO AZ Motorcycles"
      ]
     },
     "metadata": {},
     "execution_count": 44
    }
   ],
   "metadata": {}
  },
  {
   "cell_type": "code",
   "execution_count": 41,
   "source": [
    "#Pre-processing the User data\r\n",
    "User_ids=[]\r\n",
    "User_names=[]\r\n",
    "User_Review_Counts=[]\r\n",
    "for user in User_raw_data:\r\n",
    "    User_ids.append(user[\"user_id\"])\r\n",
    "    User_names.append(user[\"name\"])\r\n",
    "    User_Review_Counts.append(user[\"review_count\"])\r\n",
    "User_df=pd.DataFrame()\r\n",
    "User_df[\"user_id\"]=User_ids\r\n",
    "User_df[\"name\"]=User_names\r\n",
    "User_df[\"Review_Counts\"]=User_Review_Counts\r\n",
    "User_df.head()"
   ],
   "outputs": [
    {
     "output_type": "execute_result",
     "data": {
      "text/html": [
       "<div>\n",
       "<style scoped>\n",
       "    .dataframe tbody tr th:only-of-type {\n",
       "        vertical-align: middle;\n",
       "    }\n",
       "\n",
       "    .dataframe tbody tr th {\n",
       "        vertical-align: top;\n",
       "    }\n",
       "\n",
       "    .dataframe thead th {\n",
       "        text-align: right;\n",
       "    }\n",
       "</style>\n",
       "<table border=\"1\" class=\"dataframe\">\n",
       "  <thead>\n",
       "    <tr style=\"text-align: right;\">\n",
       "      <th></th>\n",
       "      <th>user_id</th>\n",
       "      <th>name</th>\n",
       "      <th>Review_Counts</th>\n",
       "    </tr>\n",
       "  </thead>\n",
       "  <tbody>\n",
       "    <tr>\n",
       "      <th>0</th>\n",
       "      <td>eSlOI3GhroEtcbaD_nFXJQ</td>\n",
       "      <td>Jason</td>\n",
       "      <td>2518</td>\n",
       "    </tr>\n",
       "    <tr>\n",
       "      <th>1</th>\n",
       "      <td>U4INQZOPSUaj8hMjLlZ3KA</td>\n",
       "      <td>Michael</td>\n",
       "      <td>4308</td>\n",
       "    </tr>\n",
       "    <tr>\n",
       "      <th>2</th>\n",
       "      <td>xZAmw5gihOVO4duMN2Ju6Q</td>\n",
       "      <td>Flynn</td>\n",
       "      <td>70</td>\n",
       "    </tr>\n",
       "    <tr>\n",
       "      <th>3</th>\n",
       "      <td>F78tJHr0qW6FsYBtWMmLpA</td>\n",
       "      <td>Christopher</td>\n",
       "      <td>267</td>\n",
       "    </tr>\n",
       "    <tr>\n",
       "      <th>4</th>\n",
       "      <td>TUE3NJYN4i7xyGVSIXMLvw</td>\n",
       "      <td>Kymberly</td>\n",
       "      <td>13</td>\n",
       "    </tr>\n",
       "  </tbody>\n",
       "</table>\n",
       "</div>"
      ],
      "text/plain": [
       "                  user_id         name  Review_Counts\n",
       "0  eSlOI3GhroEtcbaD_nFXJQ        Jason           2518\n",
       "1  U4INQZOPSUaj8hMjLlZ3KA      Michael           4308\n",
       "2  xZAmw5gihOVO4duMN2Ju6Q        Flynn             70\n",
       "3  F78tJHr0qW6FsYBtWMmLpA  Christopher            267\n",
       "4  TUE3NJYN4i7xyGVSIXMLvw     Kymberly             13"
      ]
     },
     "metadata": {},
     "execution_count": 41
    }
   ],
   "metadata": {}
  },
  {
   "cell_type": "code",
   "execution_count": null,
   "source": [
    "#Pre-processing the Review Data\r\n",
    "Review_ids=[]\r\n",
    "Review_User_ids=[]\r\n",
    "Review_Business_ids=[]\r\n",
    "Review_Stars=[]\r\n",
    "for review in Review_raw_data:\r\n",
    "    Review_ids.append(review[\"review_id\"])\r\n",
    "    Review_User_ids.append(review[\"user_id\"])\r\n",
    "    Review_Business_ids.append(review[\"business_id\"])\r\n",
    "    Review_Stars.append(review[\"stars\"])\r\n",
    "Review_df=pd.DataFrame()\r\n",
    "Review_df[\"id\"]=Review_ids\r\n",
    "Review_df[\"user_id\"]=Review_User_ids\r\n",
    "Review_df[\"business_id\"]=Review_Business_ids\r\n",
    "Review_df[\"stars\"]=Review_Stars\r\n",
    "Review_df.head()"
   ],
   "outputs": [],
   "metadata": {}
  }
 ],
 "metadata": {
  "orig_nbformat": 4,
  "language_info": {
   "name": "python",
   "version": "3.9.6",
   "mimetype": "text/x-python",
   "codemirror_mode": {
    "name": "ipython",
    "version": 3
   },
   "pygments_lexer": "ipython3",
   "nbconvert_exporter": "python",
   "file_extension": ".py"
  },
  "kernelspec": {
   "name": "python3",
   "display_name": "Python 3.9.6 64-bit"
  },
  "interpreter": {
   "hash": "4ce0e62306dd6a5716965d4519ada776f947e6dfc145b604b11307c10277ef29"
  }
 },
 "nbformat": 4,
 "nbformat_minor": 2
}