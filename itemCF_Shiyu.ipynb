{
 "cells": [
  {
   "cell_type": "code",
   "execution_count": 77,
   "source": [
    "import json\r\n",
    "import pandas as pd\r\n",
    "from collections import defaultdict\r\n",
    "import math"
   ],
   "outputs": [],
   "metadata": {}
  },
  {
   "cell_type": "code",
   "execution_count": 68,
   "source": [
    "def read_data(path):\r\n",
    "    rawdata=[]\r\n",
    "    with open(path,\"r\",encoding=\"utf8\") as infile:\r\n",
    "        while True:\r\n",
    "            linestr=infile.readline()\r\n",
    "            if not linestr:\r\n",
    "                break\r\n",
    "            line=json.loads(linestr)\r\n",
    "            rawdata.append(line)\r\n",
    "    infile.close()\r\n",
    "    return rawdata\r\n",
    "        "
   ],
   "outputs": [],
   "metadata": {}
  },
  {
   "cell_type": "code",
   "execution_count": 69,
   "source": [
    "User_Path=\"dataset\\Peoria_Data\\Peoria_User.json\"\r\n",
    "Review_Path=\"dataset\\Peoria_Data\\Peoria_Review.json\"\r\n",
    "Business_Path=\"dataset\\Peoria_Data\\Peoria_business.json\"\r\n",
    "Business_raw_data=read_data(Business_Path)\r\n",
    "User_raw_data=read_data(User_Path)\r\n",
    "Review_raw_data=read_data(Review_Path)\r\n"
   ],
   "outputs": [],
   "metadata": {}
  },
  {
   "cell_type": "code",
   "execution_count": 70,
   "source": [
    "# Pre-processing the business data\r\n",
    "Business_ids=[]\r\n",
    "Business_names=[]\r\n",
    "for shop in Business_raw_data:\r\n",
    "    Business_ids.append(shop[\"business_id\"])\r\n",
    "    Business_names.append(shop[\"name\"])\r\n",
    "Business_df=pd.DataFrame()\r\n",
    "Business_df[\"business_id\"]=Business_ids\r\n",
    "Business_df[\"name\"]=Business_names\r\n",
    "\r\n",
    "\r\n",
    "\r\n",
    "#Pre-processing the User data\r\n",
    "User_ids=[]\r\n",
    "User_names=[]\r\n",
    "User_Review_Counts=[]\r\n",
    "for user in User_raw_data:\r\n",
    "    User_ids.append(user[\"name\"])\r\n",
    "    User_names.append(user[\"name\"])\r\n",
    "    User_ids.append(user[\"name\"])"
   ],
   "outputs": [],
   "metadata": {}
  },
  {
   "cell_type": "code",
   "execution_count": 71,
   "source": [
    "#Pre-processing the User data\r\n",
    "User_ids=[]\r\n",
    "User_names=[]\r\n",
    "User_Review_Counts=[]\r\n",
    "for user in User_raw_data:\r\n",
    "    User_ids.append(user[\"user_id\"])\r\n",
    "    User_names.append(user[\"name\"])\r\n",
    "    User_Review_Counts.append(user[\"review_count\"])\r\n",
    "User_df=pd.DataFrame()\r\n",
    "User_df[\"user_id\"]=User_ids\r\n",
    "User_df[\"name\"]=User_names\r\n",
    "User_df[\"Review_Counts\"]=User_Review_Counts\r\n",
    "User_df.head()"
   ],
   "outputs": [
    {
     "output_type": "execute_result",
     "data": {
      "text/html": [
       "<div>\n",
       "<style scoped>\n",
       "    .dataframe tbody tr th:only-of-type {\n",
       "        vertical-align: middle;\n",
       "    }\n",
       "\n",
       "    .dataframe tbody tr th {\n",
       "        vertical-align: top;\n",
       "    }\n",
       "\n",
       "    .dataframe thead th {\n",
       "        text-align: right;\n",
       "    }\n",
       "</style>\n",
       "<table border=\"1\" class=\"dataframe\">\n",
       "  <thead>\n",
       "    <tr style=\"text-align: right;\">\n",
       "      <th></th>\n",
       "      <th>user_id</th>\n",
       "      <th>name</th>\n",
       "      <th>Review_Counts</th>\n",
       "    </tr>\n",
       "  </thead>\n",
       "  <tbody>\n",
       "    <tr>\n",
       "      <th>0</th>\n",
       "      <td>eSlOI3GhroEtcbaD_nFXJQ</td>\n",
       "      <td>Jason</td>\n",
       "      <td>2518</td>\n",
       "    </tr>\n",
       "    <tr>\n",
       "      <th>1</th>\n",
       "      <td>U4INQZOPSUaj8hMjLlZ3KA</td>\n",
       "      <td>Michael</td>\n",
       "      <td>4308</td>\n",
       "    </tr>\n",
       "    <tr>\n",
       "      <th>2</th>\n",
       "      <td>xZAmw5gihOVO4duMN2Ju6Q</td>\n",
       "      <td>Flynn</td>\n",
       "      <td>70</td>\n",
       "    </tr>\n",
       "    <tr>\n",
       "      <th>3</th>\n",
       "      <td>F78tJHr0qW6FsYBtWMmLpA</td>\n",
       "      <td>Christopher</td>\n",
       "      <td>267</td>\n",
       "    </tr>\n",
       "    <tr>\n",
       "      <th>4</th>\n",
       "      <td>TUE3NJYN4i7xyGVSIXMLvw</td>\n",
       "      <td>Kymberly</td>\n",
       "      <td>13</td>\n",
       "    </tr>\n",
       "  </tbody>\n",
       "</table>\n",
       "</div>"
      ],
      "text/plain": [
       "                  user_id         name  Review_Counts\n",
       "0  eSlOI3GhroEtcbaD_nFXJQ        Jason           2518\n",
       "1  U4INQZOPSUaj8hMjLlZ3KA      Michael           4308\n",
       "2  xZAmw5gihOVO4duMN2Ju6Q        Flynn             70\n",
       "3  F78tJHr0qW6FsYBtWMmLpA  Christopher            267\n",
       "4  TUE3NJYN4i7xyGVSIXMLvw     Kymberly             13"
      ]
     },
     "metadata": {},
     "execution_count": 71
    }
   ],
   "metadata": {}
  },
  {
   "cell_type": "code",
   "execution_count": 72,
   "source": [
    "#Pre-processing the Review Data\r\n",
    "Review_ids=[]\r\n",
    "Review_User_ids=[]\r\n",
    "Review_Business_ids=[]\r\n",
    "Review_Stars=[]\r\n",
    "for review in Review_raw_data:\r\n",
    "    Review_ids.append(review[\"review_id\"])\r\n",
    "    Review_User_ids.append(review[\"user_id\"])\r\n",
    "    Review_Business_ids.append(review[\"business_id\"])\r\n",
    "    Review_Stars.append(review[\"stars\"])\r\n",
    "Review_df=pd.DataFrame()\r\n",
    "Review_df[\"id\"]=Review_ids\r\n",
    "Review_df[\"user_id\"]=Review_User_ids\r\n",
    "Review_df[\"business_id\"]=Review_Business_ids\r\n",
    "Review_df[\"stars\"]=Review_Stars\r\n",
    "Review_df.head()"
   ],
   "outputs": [
    {
     "output_type": "execute_result",
     "data": {
      "text/html": [
       "<div>\n",
       "<style scoped>\n",
       "    .dataframe tbody tr th:only-of-type {\n",
       "        vertical-align: middle;\n",
       "    }\n",
       "\n",
       "    .dataframe tbody tr th {\n",
       "        vertical-align: top;\n",
       "    }\n",
       "\n",
       "    .dataframe thead th {\n",
       "        text-align: right;\n",
       "    }\n",
       "</style>\n",
       "<table border=\"1\" class=\"dataframe\">\n",
       "  <thead>\n",
       "    <tr style=\"text-align: right;\">\n",
       "      <th></th>\n",
       "      <th>id</th>\n",
       "      <th>user_id</th>\n",
       "      <th>business_id</th>\n",
       "      <th>stars</th>\n",
       "    </tr>\n",
       "  </thead>\n",
       "  <tbody>\n",
       "    <tr>\n",
       "      <th>0</th>\n",
       "      <td>vxUvLAojLKEOftyJJweNEA</td>\n",
       "      <td>z4qE-IdYzvpzE8jP9oZYww</td>\n",
       "      <td>XvyXWS78g2soxHElyfgELw</td>\n",
       "      <td>5.0</td>\n",
       "    </tr>\n",
       "    <tr>\n",
       "      <th>1</th>\n",
       "      <td>65GF_UsW70rdxVde2ip6oA</td>\n",
       "      <td>GLsknAZX1t5lybLxuf9B3g</td>\n",
       "      <td>E6ADmD8pnHrfCqddyiaKXA</td>\n",
       "      <td>5.0</td>\n",
       "    </tr>\n",
       "    <tr>\n",
       "      <th>2</th>\n",
       "      <td>Y-KtijRX7iwjJWK9B48Ggg</td>\n",
       "      <td>qZB8BZ2ZzMF0VfIGhttu7w</td>\n",
       "      <td>D5aSQhj3uyX4Fj1B31EYRQ</td>\n",
       "      <td>1.0</td>\n",
       "    </tr>\n",
       "    <tr>\n",
       "      <th>3</th>\n",
       "      <td>EqwkO9ASFMVla1FJggTzCQ</td>\n",
       "      <td>Nx6BcJzyJdp4hP180O3xhg</td>\n",
       "      <td>1lxBO6qIHLcFl1WTQp-Ftg</td>\n",
       "      <td>5.0</td>\n",
       "    </tr>\n",
       "    <tr>\n",
       "      <th>4</th>\n",
       "      <td>ypkzI6POzwhj4RVxIo1Wxg</td>\n",
       "      <td>QRx4SICG18mRU0yocWsMMQ</td>\n",
       "      <td>1f7AEcZfKF7F4hvehrUqaw</td>\n",
       "      <td>2.0</td>\n",
       "    </tr>\n",
       "  </tbody>\n",
       "</table>\n",
       "</div>"
      ],
      "text/plain": [
       "                       id                 user_id             business_id  \\\n",
       "0  vxUvLAojLKEOftyJJweNEA  z4qE-IdYzvpzE8jP9oZYww  XvyXWS78g2soxHElyfgELw   \n",
       "1  65GF_UsW70rdxVde2ip6oA  GLsknAZX1t5lybLxuf9B3g  E6ADmD8pnHrfCqddyiaKXA   \n",
       "2  Y-KtijRX7iwjJWK9B48Ggg  qZB8BZ2ZzMF0VfIGhttu7w  D5aSQhj3uyX4Fj1B31EYRQ   \n",
       "3  EqwkO9ASFMVla1FJggTzCQ  Nx6BcJzyJdp4hP180O3xhg  1lxBO6qIHLcFl1WTQp-Ftg   \n",
       "4  ypkzI6POzwhj4RVxIo1Wxg  QRx4SICG18mRU0yocWsMMQ  1f7AEcZfKF7F4hvehrUqaw   \n",
       "\n",
       "   stars  \n",
       "0    5.0  \n",
       "1    5.0  \n",
       "2    1.0  \n",
       "3    5.0  \n",
       "4    2.0  "
      ]
     },
     "metadata": {},
     "execution_count": 72
    }
   ],
   "metadata": {}
  },
  {
   "cell_type": "code",
   "execution_count": 73,
   "source": [
    "total_num_of_user=len(Review_df.user_id.unique())\r\n",
    "total_num_of_business=len(Review_df.business_id.unique())\r\n",
    "print(\"There are total {} users and {} business in review set\".format(total_num_of_user,total_num_of_business))"
   ],
   "outputs": [
    {
     "output_type": "stream",
     "name": "stdout",
     "text": [
      "There are total 31757 users and 1919 business in review set\n"
     ]
    }
   ],
   "metadata": {}
  },
  {
   "cell_type": "code",
   "execution_count": 85,
   "source": [
    "#Create item-user matrix in dictionary\r\n",
    "item_user_dict = {}\r\n",
    "dataDic_len = 0\r\n",
    "for row in Review_df.itertuples():\r\n",
    "    user, business, stars = getattr(row, 'user_id'), getattr(row, 'business_id'), getattr(row, 'stars')\r\n",
    "    item_user_dict.setdefault(business, defaultdict(int))\r\n",
    "    item_user_dict[business][user] = stars"
   ],
   "outputs": [],
   "metadata": {}
  },
  {
   "cell_type": "code",
   "execution_count": 83,
   "source": [
    "# print(item_user_dict)\r\n",
    "print(item_user_dict[\"XvyXWS78g2soxHElyfgELw\"][\"qZB8BZ2ZzMF0VfIGhttu7w\"])"
   ],
   "outputs": [
    {
     "output_type": "stream",
     "name": "stdout",
     "text": [
      "0\n"
     ]
    }
   ],
   "metadata": {}
  },
  {
   "cell_type": "code",
   "execution_count": 94,
   "source": [
    "from scipy.linalg import norm\r\n",
    "def simple_cosine_sim(a, b):\r\n",
    "    if len(b) < len(a):\r\n",
    "        a, b = b, a\r\n",
    "    res = 0\r\n",
    "    for key, a_value in a.items():\r\n",
    "        res += a_value * b.get(key, 0)\r\n",
    "    if res == 0:\r\n",
    "        return 0\r\n",
    "    try:\r\n",
    "        res = res / norm(list(a.values())) / norm(list(b.values()))\r\n",
    "    except ZeroDivisionError:\r\n",
    "        res = 0\r\n",
    "    return res "
   ],
   "outputs": [],
   "metadata": {}
  },
  {
   "cell_type": "code",
   "execution_count": null,
   "source": [
    "print(item_user_dict[\"XvyXWS78g2soxHElyfgELw\"].values())"
   ],
   "outputs": [],
   "metadata": {}
  },
  {
   "cell_type": "code",
   "execution_count": null,
   "source": [],
   "outputs": [],
   "metadata": {}
  },
  {
   "cell_type": "code",
   "execution_count": 95,
   "source": [
    "business_sim_matrix={}\r\n",
    "for b1 in item_user_dict.keys():\r\n",
    "    business_sim_matrix.setdefault(b1,defaultdict(int))\r\n",
    "    for b2 in item_user_dict.keys():\r\n",
    "        if b1==b2:\r\n",
    "            continue\r\n",
    "        cos_sim=simple_cosine_sim(item_user_dict[b1],item_user_dict[b2])\r\n",
    "        if cos_sim==0:\r\n",
    "            continue\r\n",
    "        business_sim_matrix[b1][b2]=cos_sim"
   ],
   "outputs": [
    {
     "output_type": "error",
     "ename": "KeyboardInterrupt",
     "evalue": "",
     "traceback": [
      "\u001b[1;31m---------------------------------------------------------------------------\u001b[0m",
      "\u001b[1;31mKeyboardInterrupt\u001b[0m                         Traceback (most recent call last)",
      "\u001b[1;32m~\\AppData\\Local\\Temp/ipykernel_20616/12605314.py\u001b[0m in \u001b[0;36m<module>\u001b[1;34m\u001b[0m\n\u001b[0;32m      5\u001b[0m         \u001b[1;32mif\u001b[0m \u001b[0mb1\u001b[0m\u001b[1;33m==\u001b[0m\u001b[0mb2\u001b[0m\u001b[1;33m:\u001b[0m\u001b[1;33m\u001b[0m\u001b[1;33m\u001b[0m\u001b[0m\n\u001b[0;32m      6\u001b[0m             \u001b[1;32mcontinue\u001b[0m\u001b[1;33m\u001b[0m\u001b[1;33m\u001b[0m\u001b[0m\n\u001b[1;32m----> 7\u001b[1;33m         \u001b[0mcos_sim\u001b[0m\u001b[1;33m=\u001b[0m\u001b[0msimple_cosine_sim\u001b[0m\u001b[1;33m(\u001b[0m\u001b[0mitem_user_dict\u001b[0m\u001b[1;33m[\u001b[0m\u001b[0mb1\u001b[0m\u001b[1;33m]\u001b[0m\u001b[1;33m,\u001b[0m\u001b[0mitem_user_dict\u001b[0m\u001b[1;33m[\u001b[0m\u001b[0mb2\u001b[0m\u001b[1;33m]\u001b[0m\u001b[1;33m)\u001b[0m\u001b[1;33m\u001b[0m\u001b[1;33m\u001b[0m\u001b[0m\n\u001b[0m\u001b[0;32m      8\u001b[0m         \u001b[0mbusiness_sim_matrix\u001b[0m\u001b[1;33m[\u001b[0m\u001b[0mb1\u001b[0m\u001b[1;33m]\u001b[0m\u001b[1;33m[\u001b[0m\u001b[0mb2\u001b[0m\u001b[1;33m]\u001b[0m\u001b[1;33m=\u001b[0m\u001b[0mcos_sim\u001b[0m\u001b[1;33m\u001b[0m\u001b[1;33m\u001b[0m\u001b[0m\n",
      "\u001b[1;32m~\\AppData\\Local\\Temp/ipykernel_20616/1757071392.py\u001b[0m in \u001b[0;36msimple_cosine_sim\u001b[1;34m(a, b)\u001b[0m\n\u001b[0;32m      5\u001b[0m     \u001b[0mres\u001b[0m \u001b[1;33m=\u001b[0m \u001b[1;36m0\u001b[0m\u001b[1;33m\u001b[0m\u001b[1;33m\u001b[0m\u001b[0m\n\u001b[0;32m      6\u001b[0m     \u001b[1;32mfor\u001b[0m \u001b[0mkey\u001b[0m\u001b[1;33m,\u001b[0m \u001b[0ma_value\u001b[0m \u001b[1;32min\u001b[0m \u001b[0ma\u001b[0m\u001b[1;33m.\u001b[0m\u001b[0mitems\u001b[0m\u001b[1;33m(\u001b[0m\u001b[1;33m)\u001b[0m\u001b[1;33m:\u001b[0m\u001b[1;33m\u001b[0m\u001b[1;33m\u001b[0m\u001b[0m\n\u001b[1;32m----> 7\u001b[1;33m         \u001b[0mres\u001b[0m \u001b[1;33m+=\u001b[0m \u001b[0ma_value\u001b[0m \u001b[1;33m*\u001b[0m \u001b[0mb\u001b[0m\u001b[1;33m.\u001b[0m\u001b[0mget\u001b[0m\u001b[1;33m(\u001b[0m\u001b[0mkey\u001b[0m\u001b[1;33m,\u001b[0m \u001b[1;36m0\u001b[0m\u001b[1;33m)\u001b[0m\u001b[1;33m\u001b[0m\u001b[1;33m\u001b[0m\u001b[0m\n\u001b[0m\u001b[0;32m      8\u001b[0m     \u001b[1;32mif\u001b[0m \u001b[0mres\u001b[0m \u001b[1;33m==\u001b[0m \u001b[1;36m0\u001b[0m\u001b[1;33m:\u001b[0m\u001b[1;33m\u001b[0m\u001b[1;33m\u001b[0m\u001b[0m\n\u001b[0;32m      9\u001b[0m         \u001b[1;32mreturn\u001b[0m \u001b[1;36m0\u001b[0m\u001b[1;33m\u001b[0m\u001b[1;33m\u001b[0m\u001b[0m\n",
      "\u001b[1;31mKeyboardInterrupt\u001b[0m: "
     ]
    }
   ],
   "metadata": {}
  },
  {
   "cell_type": "code",
   "execution_count": 86,
   "source": [
    "#Record the time that the business has been reviewed, as popularity\r\n",
    "business_popularity=defaultdict(int)\r\n",
    "for key ,value in item_user_dict.items():\r\n",
    "    business_popularity[key]=len(item_user_dict[key])\r\n",
    "\r\n",
    "# Build business similarity matrix\r\n",
    "business_sim_matrix={}\r\n",
    "for b1 in item_user_dict.keys():\r\n",
    "    business_sim_matrix.setdefault(b1,defaultdict(int))\r\n",
    "    for b2 in item_user_dict.keys():\r\n",
    "        if b1==b2:\r\n",
    "            continue\r\n",
    "        Cos_Numerator=0\r\n",
    "        Cos_denominator=0\r\n",
    "        for b1_user,b1_stars in item_user_dict[b1].items():\r\n",
    "            Cos_Numerator+=b1_stars*item_user_dict[b2][b1_user]\r\n",
    "        if(Cos_denominator!=0):\r\n",
    "            b1_len=0\r\n",
    "            b2_len=0\r\n",
    "            for b1_stars in item_user_dict[b1].values():\r\n",
    "                b1_len+=b1_stars**2\r\n",
    "            for b2_stars in item_user_dict[b2].values():\r\n",
    "                b2_len+=b2_stars**2\r\n",
    "            Cos_denominator=math.sqrt(b1_len)*math.sqrt(b2_len)\r\n",
    "            business_sim_matrix[b1][b2]=Cos_Numerator/Cos_denominator\r\n",
    "        else:\r\n",
    "            continue"
   ],
   "outputs": [
    {
     "output_type": "error",
     "ename": "KeyboardInterrupt",
     "evalue": "",
     "traceback": [
      "\u001b[1;31m---------------------------------------------------------------------------\u001b[0m",
      "\u001b[1;31mKeyboardInterrupt\u001b[0m                         Traceback (most recent call last)",
      "\u001b[1;32m~\\AppData\\Local\\Temp/ipykernel_20616/3806819194.py\u001b[0m in \u001b[0;36m<module>\u001b[1;34m\u001b[0m\n\u001b[0;32m     14\u001b[0m         \u001b[0mCos_denominator\u001b[0m\u001b[1;33m=\u001b[0m\u001b[1;36m0\u001b[0m\u001b[1;33m\u001b[0m\u001b[1;33m\u001b[0m\u001b[0m\n\u001b[0;32m     15\u001b[0m         \u001b[1;32mfor\u001b[0m \u001b[0mb1_user\u001b[0m\u001b[1;33m,\u001b[0m\u001b[0mb1_stars\u001b[0m \u001b[1;32min\u001b[0m \u001b[0mitem_user_dict\u001b[0m\u001b[1;33m[\u001b[0m\u001b[0mb1\u001b[0m\u001b[1;33m]\u001b[0m\u001b[1;33m.\u001b[0m\u001b[0mitems\u001b[0m\u001b[1;33m(\u001b[0m\u001b[1;33m)\u001b[0m\u001b[1;33m:\u001b[0m\u001b[1;33m\u001b[0m\u001b[1;33m\u001b[0m\u001b[0m\n\u001b[1;32m---> 16\u001b[1;33m             \u001b[0mCos_Numerator\u001b[0m\u001b[1;33m+=\u001b[0m\u001b[0mb1_stars\u001b[0m\u001b[1;33m*\u001b[0m\u001b[0mitem_user_dict\u001b[0m\u001b[1;33m[\u001b[0m\u001b[0mb2\u001b[0m\u001b[1;33m]\u001b[0m\u001b[1;33m[\u001b[0m\u001b[0mb1_user\u001b[0m\u001b[1;33m]\u001b[0m\u001b[1;33m\u001b[0m\u001b[1;33m\u001b[0m\u001b[0m\n\u001b[0m\u001b[0;32m     17\u001b[0m         \u001b[1;32mif\u001b[0m\u001b[1;33m(\u001b[0m\u001b[0mCos_denominator\u001b[0m\u001b[1;33m!=\u001b[0m\u001b[1;36m0\u001b[0m\u001b[1;33m)\u001b[0m\u001b[1;33m:\u001b[0m\u001b[1;33m\u001b[0m\u001b[1;33m\u001b[0m\u001b[0m\n\u001b[0;32m     18\u001b[0m             \u001b[0mb1_len\u001b[0m\u001b[1;33m=\u001b[0m\u001b[1;36m0\u001b[0m\u001b[1;33m\u001b[0m\u001b[1;33m\u001b[0m\u001b[0m\n",
      "\u001b[1;31mKeyboardInterrupt\u001b[0m: "
     ]
    }
   ],
   "metadata": {}
  }
 ],
 "metadata": {
  "orig_nbformat": 4,
  "language_info": {
   "name": "python",
   "version": "3.9.6",
   "mimetype": "text/x-python",
   "codemirror_mode": {
    "name": "ipython",
    "version": 3
   },
   "pygments_lexer": "ipython3",
   "nbconvert_exporter": "python",
   "file_extension": ".py"
  },
  "kernelspec": {
   "name": "python3",
   "display_name": "Python 3.9.6 64-bit"
  },
  "interpreter": {
   "hash": "4ce0e62306dd6a5716965d4519ada776f947e6dfc145b604b11307c10277ef29"
  }
 },
 "nbformat": 4,
 "nbformat_minor": 2
}