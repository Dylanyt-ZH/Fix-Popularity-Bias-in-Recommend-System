{
 "cells": [
  {
   "cell_type": "markdown",
   "source": [
    "## Description：\r\n",
    "This notebook tries to implement the original ItemCF method. The data set used is the Montréal data set in the Yelp data set, and the reviews part of the data set is mainly used because it contains the user's rating of the business. The code is mainly divided into the following steps：\r\n",
    "1. Import the yelp data set, filter the data set and divide it into training set and test set.\r\n",
    "2. Make 5 recommendations by using training set, and each recommendation generates a recommendation list for the first 200 users in the training set.\r\n",
    "3. Calculate the PRU."
   ],
   "metadata": {}
  },
  {
   "cell_type": "code",
   "execution_count": 51,
   "source": [
    "import os\r\n",
    "import time\r\n",
    "\r\n",
    "import json\r\n",
    "\r\n",
    "from operator import itemgetter\r\n",
    "\r\n",
    "# data science imports\r\n",
    "import math\r\n",
    "import numpy as np\r\n",
    "import pandas as pd\r\n",
    "from scipy.sparse import csr_matrix\r\n",
    "from sklearn.neighbors import NearestNeighbors\r\n",
    "from sklearn.model_selection import train_test_split\r\n",
    "\r\n",
    "# utils import\r\n",
    "from fuzzywuzzy import fuzz\r\n",
    "\r\n",
    "# visualization imports\r\n",
    "import seaborn as sns\r\n",
    "import matplotlib.pyplot as plt\r\n",
    "import matplotlib.colors as colors\r\n",
    "\r\n",
    "import random"
   ],
   "outputs": [],
   "metadata": {
    "ExecuteTime": {
     "end_time": "2020-08-21T02:51:36.893798Z",
     "start_time": "2020-08-21T02:51:36.384451Z"
    }
   }
  },
  {
   "cell_type": "markdown",
   "source": [
    "## Load Json data"
   ],
   "metadata": {}
  },
  {
   "cell_type": "code",
   "execution_count": 52,
   "source": [
    "def read_josn (path):\r\n",
    "    file = open(path, \"r\", encoding = 'utf-8')\r\n",
    "    df = []\r\n",
    "    for line in file.readlines():\r\n",
    "        dic = json.loads(line)\r\n",
    "        df.append(dic)\r\n",
    "    return df"
   ],
   "outputs": [],
   "metadata": {}
  },
  {
   "cell_type": "code",
   "execution_count": 4,
   "source": [
    "# load business data\r\n",
    "path = \"data/Montréal_Data/Montréal_business.json\"\r\n",
    "business_list = read_josn(path)\r\n",
    "# load reviews data\r\n",
    "path = \"data/Montréal_Data/Montréal_Review.json\"\r\n",
    "review_list = read_josn(path)\r\n",
    "# load user data\r\n",
    "path = \"data/Montréal_Data/Montréal_User.json\"\r\n",
    "user_list = read_josn(path)"
   ],
   "outputs": [],
   "metadata": {
    "ExecuteTime": {
     "end_time": "2020-08-21T02:51:38.853082Z",
     "start_time": "2020-08-21T02:51:38.799808Z"
    }
   }
  },
  {
   "cell_type": "markdown",
   "source": [
    "## Transform Json to dataframe"
   ],
   "metadata": {}
  },
  {
   "cell_type": "code",
   "execution_count": 53,
   "source": [
    "# business list into dataframe\r\n",
    "df_business = pd.DataFrame()\r\n",
    "business_id = []\r\n",
    "name = []\r\n",
    "for element in business_list:\r\n",
    "    business_id.append(element[\"business_id\"])\r\n",
    "    name.append(element[\"name\"])\r\n",
    "\r\n",
    "Business_Num_Id = {}\r\n",
    "U = 1\r\n",
    "B = 1\r\n",
    "Business_Id = []\r\n",
    "for index in range(len(business_id)):\r\n",
    "    if business_id[index] not in Business_Num_Id.keys():\r\n",
    "        Business_Num_Id[business_id[index]] = B\r\n",
    "        B = B + 1\r\n",
    "    Business_Id.append(Business_Num_Id[business_id[index]])\r\n",
    "    \r\n",
    "\r\n",
    "df_business[\"RawBusinessId\"] = business_id\r\n",
    "df_business[\"businessId\"] = Business_Id\r\n",
    "df_business[\"title\"] = name\r\n",
    "\r\n",
    "df_business.head()"
   ],
   "outputs": [
    {
     "output_type": "execute_result",
     "data": {
      "text/html": [
       "<div>\n",
       "<style scoped>\n",
       "    .dataframe tbody tr th:only-of-type {\n",
       "        vertical-align: middle;\n",
       "    }\n",
       "\n",
       "    .dataframe tbody tr th {\n",
       "        vertical-align: top;\n",
       "    }\n",
       "\n",
       "    .dataframe thead th {\n",
       "        text-align: right;\n",
       "    }\n",
       "</style>\n",
       "<table border=\"1\" class=\"dataframe\">\n",
       "  <thead>\n",
       "    <tr style=\"text-align: right;\">\n",
       "      <th></th>\n",
       "      <th>RawBusinessId</th>\n",
       "      <th>businessId</th>\n",
       "      <th>title</th>\n",
       "    </tr>\n",
       "  </thead>\n",
       "  <tbody>\n",
       "    <tr>\n",
       "      <th>0</th>\n",
       "      <td>i_oghUPqLzzJtxC6Zm-D2A</td>\n",
       "      <td>1</td>\n",
       "      <td>Braseiro</td>\n",
       "    </tr>\n",
       "    <tr>\n",
       "      <th>1</th>\n",
       "      <td>735UkyT4px_oeW3iyotGmA</td>\n",
       "      <td>2</td>\n",
       "      <td>Parc-nature de l'Île-de-la-Visitation</td>\n",
       "    </tr>\n",
       "    <tr>\n",
       "      <th>2</th>\n",
       "      <td>SWX0K1dpy4fcRq-ktZxmCg</td>\n",
       "      <td>3</td>\n",
       "      <td>Bistro des Moulins</td>\n",
       "    </tr>\n",
       "    <tr>\n",
       "      <th>3</th>\n",
       "      <td>spi9UEWyNrq2O4y5DD84LA</td>\n",
       "      <td>4</td>\n",
       "      <td>Restaurant Nhu Y</td>\n",
       "    </tr>\n",
       "    <tr>\n",
       "      <th>4</th>\n",
       "      <td>cBQDYO0dIpG6--I3DMiWoQ</td>\n",
       "      <td>5</td>\n",
       "      <td>Secrets de Femme</td>\n",
       "    </tr>\n",
       "  </tbody>\n",
       "</table>\n",
       "</div>"
      ],
      "text/plain": [
       "            RawBusinessId  businessId                                  title\n",
       "0  i_oghUPqLzzJtxC6Zm-D2A           1                               Braseiro\n",
       "1  735UkyT4px_oeW3iyotGmA           2  Parc-nature de l'Île-de-la-Visitation\n",
       "2  SWX0K1dpy4fcRq-ktZxmCg           3                     Bistro des Moulins\n",
       "3  spi9UEWyNrq2O4y5DD84LA           4                       Restaurant Nhu Y\n",
       "4  cBQDYO0dIpG6--I3DMiWoQ           5                       Secrets de Femme"
      ]
     },
     "metadata": {},
     "execution_count": 53
    }
   ],
   "metadata": {}
  },
  {
   "cell_type": "code",
   "execution_count": 54,
   "source": [
    "# User list into dataframe\r\n",
    "df_user = pd.DataFrame()\r\n",
    "user_id = []\r\n",
    "name = []\r\n",
    "for element in user_list:\r\n",
    "    user_id.append(element[\"user_id\"])\r\n",
    "    name.append(element[\"name\"])\r\n",
    "\r\n",
    "User_Num_Id = {}\r\n",
    "U = 1\r\n",
    "User_Id = []\r\n",
    "for index in range(len(user_id)):\r\n",
    "    if user_id[index] not in User_Num_Id.keys():\r\n",
    "        User_Num_Id[user_id[index]] = U\r\n",
    "        U = U + 1\r\n",
    "    User_Id.append(User_Num_Id[user_id[index]])\r\n",
    "    \r\n",
    "df_user[\"RawUserId\"] = user_id\r\n",
    "df_user[\"UserId\"] = User_Id\r\n",
    "df_user[\"name\"] = name\r\n",
    "\r\n",
    "df_user.head()"
   ],
   "outputs": [
    {
     "output_type": "execute_result",
     "data": {
      "text/html": [
       "<div>\n",
       "<style scoped>\n",
       "    .dataframe tbody tr th:only-of-type {\n",
       "        vertical-align: middle;\n",
       "    }\n",
       "\n",
       "    .dataframe tbody tr th {\n",
       "        vertical-align: top;\n",
       "    }\n",
       "\n",
       "    .dataframe thead th {\n",
       "        text-align: right;\n",
       "    }\n",
       "</style>\n",
       "<table border=\"1\" class=\"dataframe\">\n",
       "  <thead>\n",
       "    <tr style=\"text-align: right;\">\n",
       "      <th></th>\n",
       "      <th>RawUserId</th>\n",
       "      <th>UserId</th>\n",
       "      <th>name</th>\n",
       "    </tr>\n",
       "  </thead>\n",
       "  <tbody>\n",
       "    <tr>\n",
       "      <th>0</th>\n",
       "      <td>jx-BchSqX2PlnMflR62Urw</td>\n",
       "      <td>1</td>\n",
       "      <td>Jack</td>\n",
       "    </tr>\n",
       "    <tr>\n",
       "      <th>1</th>\n",
       "      <td>4TCOItk-gIJROyNA5ftZ-Q</td>\n",
       "      <td>2</td>\n",
       "      <td>Alma</td>\n",
       "    </tr>\n",
       "    <tr>\n",
       "      <th>2</th>\n",
       "      <td>i7dva-DqwjyAtLVc2idhNA</td>\n",
       "      <td>3</td>\n",
       "      <td>Pradeep</td>\n",
       "    </tr>\n",
       "    <tr>\n",
       "      <th>3</th>\n",
       "      <td>U4INQZOPSUaj8hMjLlZ3KA</td>\n",
       "      <td>4</td>\n",
       "      <td>Michael</td>\n",
       "    </tr>\n",
       "    <tr>\n",
       "      <th>4</th>\n",
       "      <td>B4GZ3kX1TpxJUCkpPqYqng</td>\n",
       "      <td>5</td>\n",
       "      <td>Vivian</td>\n",
       "    </tr>\n",
       "  </tbody>\n",
       "</table>\n",
       "</div>"
      ],
      "text/plain": [
       "                RawUserId  UserId     name\n",
       "0  jx-BchSqX2PlnMflR62Urw       1     Jack\n",
       "1  4TCOItk-gIJROyNA5ftZ-Q       2     Alma\n",
       "2  i7dva-DqwjyAtLVc2idhNA       3  Pradeep\n",
       "3  U4INQZOPSUaj8hMjLlZ3KA       4  Michael\n",
       "4  B4GZ3kX1TpxJUCkpPqYqng       5   Vivian"
      ]
     },
     "metadata": {},
     "execution_count": 54
    }
   ],
   "metadata": {}
  },
  {
   "cell_type": "code",
   "execution_count": 55,
   "source": [
    "# review list into dataframe\r\n",
    "df_ratings = pd.DataFrame()\r\n",
    "#review_id = []\r\n",
    "user_id = []\r\n",
    "business_id = []\r\n",
    "ratings = []\r\n",
    "for element in review_list:\r\n",
    "    uid = User_Num_Id[element[\"user_id\"]]\r\n",
    "    bid = Business_Num_Id[element[\"business_id\"]]\r\n",
    "    \r\n",
    "    user_id.append(uid)\r\n",
    "    business_id.append(bid)\r\n",
    "    ratings.append(element[\"stars\"])\r\n",
    "\r\n",
    "#df_ratings[\"review_id\"] = review_id\r\n",
    "df_ratings[\"userId\"] = user_id\r\n",
    "df_ratings[\"businessId\"] = business_id\r\n",
    "df_ratings[\"rating\"] = ratings\r\n",
    "\r\n",
    "df_ratings.head()"
   ],
   "outputs": [
    {
     "output_type": "execute_result",
     "data": {
      "text/html": [
       "<div>\n",
       "<style scoped>\n",
       "    .dataframe tbody tr th:only-of-type {\n",
       "        vertical-align: middle;\n",
       "    }\n",
       "\n",
       "    .dataframe tbody tr th {\n",
       "        vertical-align: top;\n",
       "    }\n",
       "\n",
       "    .dataframe thead th {\n",
       "        text-align: right;\n",
       "    }\n",
       "</style>\n",
       "<table border=\"1\" class=\"dataframe\">\n",
       "  <thead>\n",
       "    <tr style=\"text-align: right;\">\n",
       "      <th></th>\n",
       "      <th>userId</th>\n",
       "      <th>businessId</th>\n",
       "      <th>rating</th>\n",
       "    </tr>\n",
       "  </thead>\n",
       "  <tbody>\n",
       "    <tr>\n",
       "      <th>0</th>\n",
       "      <td>579</td>\n",
       "      <td>604</td>\n",
       "      <td>3.0</td>\n",
       "    </tr>\n",
       "    <tr>\n",
       "      <th>1</th>\n",
       "      <td>5400</td>\n",
       "      <td>91</td>\n",
       "      <td>4.0</td>\n",
       "    </tr>\n",
       "    <tr>\n",
       "      <th>2</th>\n",
       "      <td>1273</td>\n",
       "      <td>442</td>\n",
       "      <td>3.0</td>\n",
       "    </tr>\n",
       "    <tr>\n",
       "      <th>3</th>\n",
       "      <td>1202</td>\n",
       "      <td>478</td>\n",
       "      <td>5.0</td>\n",
       "    </tr>\n",
       "    <tr>\n",
       "      <th>4</th>\n",
       "      <td>3358</td>\n",
       "      <td>202</td>\n",
       "      <td>1.0</td>\n",
       "    </tr>\n",
       "  </tbody>\n",
       "</table>\n",
       "</div>"
      ],
      "text/plain": [
       "   userId  businessId  rating\n",
       "0     579         604     3.0\n",
       "1    5400          91     4.0\n",
       "2    1273         442     3.0\n",
       "3    1202         478     5.0\n",
       "4    3358         202     1.0"
      ]
     },
     "metadata": {},
     "execution_count": 55
    }
   ],
   "metadata": {}
  },
  {
   "cell_type": "markdown",
   "source": [
    "## Filter data\r\n",
    "### For business"
   ],
   "metadata": {}
  },
  {
   "cell_type": "code",
   "execution_count": 58,
   "source": [
    "# get rating frequency\r\n",
    "df_business_cnt = pd.DataFrame(df_ratings.groupby('businessId').size(), columns=['count'])\r\n",
    "df_business_cnt.head()"
   ],
   "outputs": [
    {
     "output_type": "execute_result",
     "data": {
      "text/html": [
       "<div>\n",
       "<style scoped>\n",
       "    .dataframe tbody tr th:only-of-type {\n",
       "        vertical-align: middle;\n",
       "    }\n",
       "\n",
       "    .dataframe tbody tr th {\n",
       "        vertical-align: top;\n",
       "    }\n",
       "\n",
       "    .dataframe thead th {\n",
       "        text-align: right;\n",
       "    }\n",
       "</style>\n",
       "<table border=\"1\" class=\"dataframe\">\n",
       "  <thead>\n",
       "    <tr style=\"text-align: right;\">\n",
       "      <th></th>\n",
       "      <th>count</th>\n",
       "    </tr>\n",
       "    <tr>\n",
       "      <th>businessId</th>\n",
       "      <th></th>\n",
       "    </tr>\n",
       "  </thead>\n",
       "  <tbody>\n",
       "    <tr>\n",
       "      <th>1</th>\n",
       "      <td>22</td>\n",
       "    </tr>\n",
       "    <tr>\n",
       "      <th>2</th>\n",
       "      <td>10</td>\n",
       "    </tr>\n",
       "    <tr>\n",
       "      <th>3</th>\n",
       "      <td>3</td>\n",
       "    </tr>\n",
       "    <tr>\n",
       "      <th>4</th>\n",
       "      <td>11</td>\n",
       "    </tr>\n",
       "    <tr>\n",
       "      <th>5</th>\n",
       "      <td>3</td>\n",
       "    </tr>\n",
       "  </tbody>\n",
       "</table>\n",
       "</div>"
      ],
      "text/plain": [
       "            count\n",
       "businessId       \n",
       "1              22\n",
       "2              10\n",
       "3               3\n",
       "4              11\n",
       "5               3"
      ]
     },
     "metadata": {},
     "execution_count": 58
    }
   ],
   "metadata": {}
  },
  {
   "cell_type": "code",
   "execution_count": 59,
   "source": [
    "# top quantiles of rating counts\r\n",
    "df_business_cnt['count'].quantile(np.arange(1, 0.6, -0.05))"
   ],
   "outputs": [
    {
     "output_type": "execute_result",
     "data": {
      "text/plain": [
       "1.00    2348.0\n",
       "0.95      84.0\n",
       "0.90      51.0\n",
       "0.85      35.0\n",
       "0.80      27.0\n",
       "0.75      21.0\n",
       "0.70      16.6\n",
       "0.65      14.0\n",
       "Name: count, dtype: float64"
      ]
     },
     "metadata": {},
     "execution_count": 59
    }
   ],
   "metadata": {}
  },
  {
   "cell_type": "code",
   "execution_count": 60,
   "source": [
    "# filter data - movies count less than 20\r\n",
    "popularity_thres = 10\r\n",
    "popular_business = list(set(df_business_cnt.query('count >= @popularity_thres').index))\r\n",
    "df_ratings_drop_business = df_ratings[df_ratings.businessId.isin(popular_business)]\r\n",
    "print('shape of original ratings data: ', df_ratings.shape)\r\n",
    "print('shape of ratings data after dropping unpopular business: ', df_ratings_drop_business.shape)"
   ],
   "outputs": [
    {
     "output_type": "stream",
     "name": "stdout",
     "text": [
      "shape of original ratings data:  (151238, 3)\n",
      "shape of ratings data after dropping unpopular business:  (133714, 3)\n"
     ]
    }
   ],
   "metadata": {}
  },
  {
   "cell_type": "markdown",
   "source": [
    "### For users"
   ],
   "metadata": {}
  },
  {
   "cell_type": "code",
   "execution_count": 61,
   "source": [
    "# get number of ratings given by every user\r\n",
    "df_users_cnt = pd.DataFrame(df_ratings_drop_business.groupby('userId').size(), columns=['count'])\r\n",
    "df_users_cnt.head()"
   ],
   "outputs": [
    {
     "output_type": "execute_result",
     "data": {
      "text/html": [
       "<div>\n",
       "<style scoped>\n",
       "    .dataframe tbody tr th:only-of-type {\n",
       "        vertical-align: middle;\n",
       "    }\n",
       "\n",
       "    .dataframe tbody tr th {\n",
       "        vertical-align: top;\n",
       "    }\n",
       "\n",
       "    .dataframe thead th {\n",
       "        text-align: right;\n",
       "    }\n",
       "</style>\n",
       "<table border=\"1\" class=\"dataframe\">\n",
       "  <thead>\n",
       "    <tr style=\"text-align: right;\">\n",
       "      <th></th>\n",
       "      <th>count</th>\n",
       "    </tr>\n",
       "    <tr>\n",
       "      <th>userId</th>\n",
       "      <th></th>\n",
       "    </tr>\n",
       "  </thead>\n",
       "  <tbody>\n",
       "    <tr>\n",
       "      <th>1</th>\n",
       "      <td>2</td>\n",
       "    </tr>\n",
       "    <tr>\n",
       "      <th>2</th>\n",
       "      <td>11</td>\n",
       "    </tr>\n",
       "    <tr>\n",
       "      <th>3</th>\n",
       "      <td>49</td>\n",
       "    </tr>\n",
       "    <tr>\n",
       "      <th>4</th>\n",
       "      <td>20</td>\n",
       "    </tr>\n",
       "    <tr>\n",
       "      <th>5</th>\n",
       "      <td>4</td>\n",
       "    </tr>\n",
       "  </tbody>\n",
       "</table>\n",
       "</div>"
      ],
      "text/plain": [
       "        count\n",
       "userId       \n",
       "1           2\n",
       "2          11\n",
       "3          49\n",
       "4          20\n",
       "5           4"
      ]
     },
     "metadata": {},
     "execution_count": 61
    }
   ],
   "metadata": {}
  },
  {
   "cell_type": "code",
   "execution_count": 62,
   "source": [
    "df_users_cnt['count'].quantile(np.arange(1, 0.5, -0.05))"
   ],
   "outputs": [
    {
     "output_type": "execute_result",
     "data": {
      "text/plain": [
       "1.00    617.0\n",
       "0.95      9.0\n",
       "0.90      5.0\n",
       "0.85      4.0\n",
       "0.80      3.0\n",
       "0.75      3.0\n",
       "0.70      2.0\n",
       "0.65      2.0\n",
       "0.60      2.0\n",
       "0.55      1.0\n",
       "Name: count, dtype: float64"
      ]
     },
     "metadata": {},
     "execution_count": 62
    }
   ],
   "metadata": {}
  },
  {
   "cell_type": "code",
   "execution_count": 63,
   "source": [
    "# filter data\r\n",
    "ratings_thres = 2\r\n",
    "active_users = list(set(df_users_cnt.query('count >= @ratings_thres').index))\r\n",
    "df_ratings_drop_users = df_ratings_drop_business[df_ratings_drop_business.userId.isin(active_users)]\r\n",
    "print('shape of original ratings data: ', df_ratings.shape)\r\n",
    "print('shape of ratings data after dropping both unpopular business and inactive users: ', df_ratings_drop_users.shape)"
   ],
   "outputs": [
    {
     "output_type": "stream",
     "name": "stdout",
     "text": [
      "shape of original ratings data:  (151238, 3)\n",
      "shape of ratings data after dropping both unpopular business and inactive users:  (108683, 3)\n"
     ]
    }
   ],
   "metadata": {}
  },
  {
   "cell_type": "code",
   "execution_count": 64,
   "source": [
    "df_ratings_drop_users.index = list(range(0, df_ratings_drop_users.shape[0]))\r\n",
    "df_ratings_drop_users"
   ],
   "outputs": [
    {
     "output_type": "execute_result",
     "data": {
      "text/html": [
       "<div>\n",
       "<style scoped>\n",
       "    .dataframe tbody tr th:only-of-type {\n",
       "        vertical-align: middle;\n",
       "    }\n",
       "\n",
       "    .dataframe tbody tr th {\n",
       "        vertical-align: top;\n",
       "    }\n",
       "\n",
       "    .dataframe thead th {\n",
       "        text-align: right;\n",
       "    }\n",
       "</style>\n",
       "<table border=\"1\" class=\"dataframe\">\n",
       "  <thead>\n",
       "    <tr style=\"text-align: right;\">\n",
       "      <th></th>\n",
       "      <th>userId</th>\n",
       "      <th>businessId</th>\n",
       "      <th>rating</th>\n",
       "    </tr>\n",
       "  </thead>\n",
       "  <tbody>\n",
       "    <tr>\n",
       "      <th>0</th>\n",
       "      <td>579</td>\n",
       "      <td>604</td>\n",
       "      <td>3.0</td>\n",
       "    </tr>\n",
       "    <tr>\n",
       "      <th>1</th>\n",
       "      <td>5400</td>\n",
       "      <td>91</td>\n",
       "      <td>4.0</td>\n",
       "    </tr>\n",
       "    <tr>\n",
       "      <th>2</th>\n",
       "      <td>1273</td>\n",
       "      <td>442</td>\n",
       "      <td>3.0</td>\n",
       "    </tr>\n",
       "    <tr>\n",
       "      <th>3</th>\n",
       "      <td>1202</td>\n",
       "      <td>478</td>\n",
       "      <td>5.0</td>\n",
       "    </tr>\n",
       "    <tr>\n",
       "      <th>4</th>\n",
       "      <td>3358</td>\n",
       "      <td>202</td>\n",
       "      <td>1.0</td>\n",
       "    </tr>\n",
       "    <tr>\n",
       "      <th>...</th>\n",
       "      <td>...</td>\n",
       "      <td>...</td>\n",
       "      <td>...</td>\n",
       "    </tr>\n",
       "    <tr>\n",
       "      <th>108678</th>\n",
       "      <td>5720</td>\n",
       "      <td>5837</td>\n",
       "      <td>1.0</td>\n",
       "    </tr>\n",
       "    <tr>\n",
       "      <th>108679</th>\n",
       "      <td>27409</td>\n",
       "      <td>5821</td>\n",
       "      <td>5.0</td>\n",
       "    </tr>\n",
       "    <tr>\n",
       "      <th>108680</th>\n",
       "      <td>39378</td>\n",
       "      <td>6252</td>\n",
       "      <td>5.0</td>\n",
       "    </tr>\n",
       "    <tr>\n",
       "      <th>108681</th>\n",
       "      <td>20833</td>\n",
       "      <td>5912</td>\n",
       "      <td>5.0</td>\n",
       "    </tr>\n",
       "    <tr>\n",
       "      <th>108682</th>\n",
       "      <td>31926</td>\n",
       "      <td>6097</td>\n",
       "      <td>4.0</td>\n",
       "    </tr>\n",
       "  </tbody>\n",
       "</table>\n",
       "<p>108683 rows × 3 columns</p>\n",
       "</div>"
      ],
      "text/plain": [
       "        userId  businessId  rating\n",
       "0          579         604     3.0\n",
       "1         5400          91     4.0\n",
       "2         1273         442     3.0\n",
       "3         1202         478     5.0\n",
       "4         3358         202     1.0\n",
       "...        ...         ...     ...\n",
       "108678    5720        5837     1.0\n",
       "108679   27409        5821     5.0\n",
       "108680   39378        6252     5.0\n",
       "108681   20833        5912     5.0\n",
       "108682   31926        6097     4.0\n",
       "\n",
       "[108683 rows x 3 columns]"
      ]
     },
     "metadata": {},
     "execution_count": 64
    }
   ],
   "metadata": {}
  },
  {
   "cell_type": "code",
   "execution_count": 65,
   "source": [
    "print(len(np.unique(df_ratings_drop_users['userId'])))\r\n",
    "print(len(np.unique(df_ratings_drop_users['businessId'])))"
   ],
   "outputs": [
    {
     "output_type": "stream",
     "name": "stdout",
     "text": [
      "18614\n",
      "2891\n"
     ]
    }
   ],
   "metadata": {}
  },
  {
   "cell_type": "markdown",
   "source": [
    "## Transform dataframe to dictionary"
   ],
   "metadata": {}
  },
  {
   "cell_type": "code",
   "execution_count": 66,
   "source": [
    "# Define 2 dictionaries, one is for training set, the other is for test set.\r\n",
    "trainSet, testSet = {}, {}\r\n",
    "trainSet_len, testSet_len = 0, 0\r\n",
    "pivot = 0.75    # Propotion of training set.\r\n",
    "\r\n",
    "# Traverse every row of data， store in the format as {businessId: {userId: rating}}.\r\n",
    "for ele in df_ratings_drop_users.itertuples():\r\n",
    "    user, business, rating = getattr(ele, 'userId'), getattr(ele, 'businessId'), getattr(ele, 'rating')\r\n",
    "    if random.random() < pivot:\r\n",
    "        trainSet.setdefault(business, {})\r\n",
    "        trainSet[business][user] = rating\r\n",
    "        trainSet_len += 1\r\n",
    "    else:\r\n",
    "        testSet.setdefault(business, {})\r\n",
    "        testSet[business][user] = rating \r\n",
    "        testSet_len += 1\r\n",
    "\r\n",
    "print('Split new trainingSet and new testSet success!')\r\n",
    "print('TrainSet = %s' % trainSet_len)\r\n",
    "print('TestSet = %s' % testSet_len)"
   ],
   "outputs": [
    {
     "output_type": "stream",
     "name": "stdout",
     "text": [
      "Split new trainingSet and new testSet success!\n",
      "TrainSet = 81625\n",
      "TestSet = 27058\n"
     ]
    }
   ],
   "metadata": {}
  },
  {
   "cell_type": "markdown",
   "source": [
    "## Calculate the normalized popularity for each business:\r\n"
   ],
   "metadata": {}
  },
  {
   "cell_type": "code",
   "execution_count": 67,
   "source": [
    "# Calculate the norm popularity for each business, which is how many times each business is rated by users.\r\n",
    "train_business_popular = {}\r\n",
    "for m in trainSet.keys():\r\n",
    "    if m not in train_business_popular.keys():\r\n",
    "        train_business_popular[m] = len(trainSet[m])\r\n",
    "\r\n",
    "# Normalize the popular.\r\n",
    "max_pop = max(train_business_popular.values())\r\n",
    "min_pop = min(train_business_popular.values())\r\n",
    "\r\n",
    "for k in train_business_popular.keys():\r\n",
    "    train_business_popular[k] = train_business_popular[k] / (max_pop - min_pop)\r\n",
    "    if train_business_popular[k] > 1:\r\n",
    "        train_business_popular[k] = 1"
   ],
   "outputs": [],
   "metadata": {
    "ExecuteTime": {
     "end_time": "2020-08-21T02:53:50.287008Z",
     "start_time": "2020-08-21T02:53:20.335100Z"
    }
   }
  },
  {
   "cell_type": "markdown",
   "source": [
    "## Define the function to calculate the cosine similarity for businesses:"
   ],
   "metadata": {}
  },
  {
   "cell_type": "code",
   "execution_count": 68,
   "source": [
    "# Create business similarity matrix.\r\n",
    "def get_business_sim_matrix(trainSet):\r\n",
    "\r\n",
    "    print(\"Generating similarity matrix......\")\r\n",
    "    business_sim_matrix = {}\r\n",
    "    for b1 in trainSet.keys():     \r\n",
    "        for b2 in trainSet.keys():\r\n",
    "            if b1 == b2:\r\n",
    "                continue\r\n",
    "            business_sim_matrix.setdefault(b1, {})      \r\n",
    "            business_sim_matrix[b1].setdefault(b2, 0)\r\n",
    "            u1 = list(trainSet[b1].keys())\r\n",
    "            u2 = list(trainSet[b2].keys())\r\n",
    "            u_intersect = list(set(u1) & set(u2))\r\n",
    "            numerator = 0\r\n",
    "            for u in u_intersect:\r\n",
    "                numerator += trainSet[b1][u] * trainSet[b2][u]\r\n",
    "            denominator = pow(sum(list(map(lambda x: x**2,  list(trainSet[b1].values())))), 0.5) * pow(sum(list(map(lambda x: x**2,  list(trainSet[b2].values())))), 0.5)\r\n",
    "            business_sim_matrix[b1][b2] = numerator / denominator\r\n",
    "\r\n",
    "    print(\"Similarity matrix has generated\")\r\n",
    "    return business_sim_matrix"
   ],
   "outputs": [],
   "metadata": {}
  },
  {
   "cell_type": "markdown",
   "source": [
    "## Define the function to generate the recommendation list to the aim user:"
   ],
   "metadata": {}
  },
  {
   "cell_type": "code",
   "execution_count": 69,
   "source": [
    "def recommend(aim_user, trainSet, sim_matrix, k=20, n=5):\r\n",
    "    rank ={}\r\n",
    "    rated_business = {}   \r\n",
    "\r\n",
    "    # Get businesses that have been rated by the target user.\r\n",
    "    for b in trainSet.keys():\r\n",
    "        if aim_user in trainSet[b].keys():\r\n",
    "            rated_business[b] = trainSet[b][aim_user]\r\n",
    "\r\n",
    "    \r\n",
    "\r\n",
    "    for business, rating in rated_business.items():\r\n",
    "        # Traverse the top k businesses that are most similar to the current business, and obtain these businesses and similar scores.\r\n",
    "        for related_business, w in sorted(sim_matrix[business].items(), key=itemgetter(1), reverse=True)[:k]:\r\n",
    "            # If the business has been rated by the target user, skip it.\r\n",
    "            if related_business in rated_business:\r\n",
    "                continue\r\n",
    "\r\n",
    "            # Calculate the user's preference value for related_movie, and initialize the value to 0.\r\n",
    "            rank.setdefault(related_business, 0)\r\n",
    "            # Multiply the preference value w of the item related_movie by its similar item and then sum it up.\r\n",
    "            # Basis of ranking——> the similarity between the recommended business and the business that has been rated (cumulative) * the rating of the rated business.\r\n",
    "            rank[related_business] += w * float(rating)\r\n",
    "\r\n",
    "    # Generate the final recommendation list for the aim user.\r\n",
    "    return sorted(rank.items(), key=itemgetter(1), reverse=True)[:n]  # itemgetter(1) 是简洁写法"
   ],
   "outputs": [],
   "metadata": {
    "ExecuteTime": {
     "end_time": "2020-08-21T03:10:11.674618Z",
     "start_time": "2020-08-21T03:10:11.668633Z"
    }
   }
  },
  {
   "cell_type": "markdown",
   "source": [
    "## Do 5 recommendations:\r\n",
    "1. Generate recommendation list to the first 200 users in the training set.\r\n",
    "2. Draw a scatter plot of business popualrity against the recommendation frequency.\r\n",
    "3. After recommendation, update the rating matrix by using the prediction ratings in the recommendation list. Also update the similarity matirx and the business popularity.\r\n",
    "4. Go to step 1."
   ],
   "metadata": {}
  },
  {
   "cell_type": "code",
   "execution_count": 70,
   "source": [
    "# Recommended 10 merchants per user for random 100 users\r\n",
    "trainSet_temp = trainSet\r\n",
    "# Calculate the popularity for each business, which is how many times each business is rated by users.\r\n",
    "train_business_popular_temp = train_business_popular\r\n",
    "col = list(colors.cnames.keys())[10:15]\r\n",
    "for i in range(5):\r\n",
    "\r\n",
    "    rec_list = []\r\n",
    "    train_user = []\r\n",
    "\r\n",
    "    for b in trainSet_temp.values():\r\n",
    "        for u in b.keys():\r\n",
    "            if u not in train_user:\r\n",
    "                train_user.append(u)\r\n",
    "\r\n",
    "    train_user = train_user[0:200]\r\n",
    "\r\n",
    "    sim_matrix = get_business_sim_matrix(trainSet)\r\n",
    "\r\n",
    "    for u_id in train_user:   \r\n",
    "        rec_list.append(recommend(u_id, trainSet_temp, sim_matrix, k=20, n=10))\r\n",
    "\r\n",
    "    # Count the number of times that each business that appears in the user's recommendation list is recommended.\r\n",
    "    rec_freq = {}\r\n",
    "    for rec in rec_list:\r\n",
    "        for b in rec:\r\n",
    "            if b[0] not in rec_freq.keys():\r\n",
    "                rec_freq[b[0]] = 1\r\n",
    "            else:\r\n",
    "                rec_freq[b[0]] = rec_freq[b[0]] + 1\r\n",
    "\r\n",
    "    # Obtain the popularity of recommended business\r\n",
    "    rec_business_popular = {}\r\n",
    "\r\n",
    "    for b in rec_freq.keys():\r\n",
    "        rec_business_popular[b] = train_business_popular_temp[b]\r\n",
    "\r\n",
    "    # Graph the popularity of the business aginst the number of referrals.\r\n",
    "    x_popularity = list(rec_business_popular.values())\r\n",
    "    y_recommendation_frequency = list(rec_freq.values())\r\n",
    "    plt.scatter(x_popularity, y_recommendation_frequency, s=30, marker = '.', label = 'Recommendation ' + str(i+1), c = col[i])\r\n",
    "    plt.xlabel('Business Popularity',fontsize=12)  \r\n",
    "    plt.ylabel('Recommendation frequency',fontsize=12)\r\n",
    "    plt.legend(loc = 'lower right')\r\n",
    "    plt.title('Item CF', fontsize=13)\r\n",
    "    plt.savefig('Before improving '+str(i+1)+'.png')\r\n",
    "    print(\"Graph \" + str(i+1) + \" has been generated...\")\r\n",
    "\r\n",
    "    # Update the user rating matrix.\r\n",
    "    for j in range(len(rec_list)):\r\n",
    "        for b in rec_list[j]:\r\n",
    "            b_id = b[0]\r\n",
    "            r = b[1]\r\n",
    "            trainSet_temp[b_id][j] = r\r\n",
    "    \r\n",
    "    # Update the business popularity\r\n",
    "    train_business_popular_temp = {}\r\n",
    "    for b in trainSet_temp.keys():\r\n",
    "        if b not in train_business_popular_temp.keys():\r\n",
    "            train_business_popular_temp[b] = len(trainSet_temp[b])\r\n",
    "    \r\n",
    "    max_pop = max(train_business_popular_temp.values())\r\n",
    "    min_pop = min(train_business_popular_temp.values())\r\n",
    "\r\n",
    "    for k in train_business_popular_temp.keys():\r\n",
    "        train_business_popular_temp[k] = train_business_popular_temp[k] / (max_pop - min_pop)\r\n",
    "        if train_business_popular_temp[k] > 1:\r\n",
    "            train_business_popular_temp[k] = 1"
   ],
   "outputs": [
    {
     "output_type": "stream",
     "name": "stdout",
     "text": [
      "Generating similarity matrix......\n",
      "Similarity matrix has generated\n",
      "Graph 1 has been generated...\n",
      "Generating similarity matrix......\n",
      "Similarity matrix has generated\n",
      "Graph 2 has been generated...\n",
      "Generating similarity matrix......\n",
      "Similarity matrix has generated\n",
      "Graph 3 has been generated...\n",
      "Generating similarity matrix......\n",
      "Similarity matrix has generated\n",
      "Graph 4 has been generated...\n",
      "Generating similarity matrix......\n",
      "Similarity matrix has generated\n",
      "Graph 5 has been generated...\n"
     ]
    },
    {
     "output_type": "display_data",
     "data": {
      "image/png": "[encoded data removed]",
      "text/plain": [
       "<Figure size 432x288 with 1 Axes>"
      ]
     },
     "metadata": {
      "needs_background": "light"
     }
    }
   ],
   "metadata": {}
  },
  {
   "cell_type": "markdown",
   "source": [
    "## Calculate the PRU for the original method:"
   ],
   "metadata": {}
  },
  {
   "cell_type": "code",
   "execution_count": 71,
   "source": [
    "from scipy import stats\r\n",
    "\r\n",
    "def get_SRC(recom_list, rank_posi, business_popular):\r\n",
    "    # popularity list\r\n",
    "    popularity = []\r\n",
    "    for bid, rating in recom_list:\r\n",
    "        popularity.append(business_popular[bid])\r\n",
    "    \r\n",
    "    SRC,_ = stats.spearmanr(rank_posi, popularity)\r\n",
    "    \r\n",
    "    return SRC"
   ],
   "outputs": [],
   "metadata": {}
  },
  {
   "cell_type": "code",
   "execution_count": 72,
   "source": [
    "original_sim_matrix = get_business_sim_matrix(trainSet)"
   ],
   "outputs": [
    {
     "output_type": "stream",
     "name": "stdout",
     "text": [
      "Generating similarity matrix......\n",
      "Similarity matrix has generated\n"
     ]
    }
   ],
   "metadata": {}
  },
  {
   "cell_type": "code",
   "execution_count": 73,
   "source": [
    "train_user_original = []\r\n",
    "for b in trainSet.values():\r\n",
    "        for u in b.keys():\r\n",
    "            if u not in train_user_original:\r\n",
    "                train_user_original.append(u)"
   ],
   "outputs": [],
   "metadata": {}
  },
  {
   "cell_type": "code",
   "execution_count": 74,
   "source": [
    "SRC_list = []\r\n",
    "SRC = 0\r\n",
    "pop_list = []\r\n",
    "for uid in train_user_original[0:200]:\r\n",
    "    #print(uid)\r\n",
    "    recom_list = recommend(uid, trainSet, original_sim_matrix, k = 20, n = 10)\r\n",
    "    rank_posi = list(np.arange(1, 11))\r\n",
    "    SRC = get_SRC(recom_list, rank_posi, train_business_popular)\r\n",
    "    SRC_list.append(SRC)\r\n",
    "    \r\n",
    "PRU = -np.mean(SRC_list)"
   ],
   "outputs": [],
   "metadata": {}
  },
  {
   "cell_type": "code",
   "execution_count": 75,
   "source": [
    "PRU"
   ],
   "outputs": [
    {
     "output_type": "execute_result",
     "data": {
      "text/plain": [
       "0.12074449873518935"
      ]
     },
     "metadata": {},
     "execution_count": 75
    }
   ],
   "metadata": {}
  }
 ],
 "metadata": {
  "kernelspec": {
   "name": "python3",
   "display_name": "Python 3.8.5 64-bit ('base': conda)"
  },
  "language_info": {
   "codemirror_mode": {
    "name": "ipython",
    "version": 3
   },
   "file_extension": ".py",
   "mimetype": "text/x-python",
   "name": "python",
   "nbconvert_exporter": "python",
   "pygments_lexer": "ipython3",
   "version": "3.8.5"
  },
  "toc": {
   "base_numbering": 1,
   "nav_menu": {},
   "number_sections": true,
   "sideBar": true,
   "skip_h1_title": false,
   "title_cell": "Table of Contents",
   "title_sidebar": "Contents",
   "toc_cell": false,
   "toc_position": {},
   "toc_section_display": true,
   "toc_window_display": false
  },
  "varInspector": {
   "cols": {
    "lenName": 16,
    "lenType": 16,
    "lenVar": 40
   },
   "kernels_config": {
    "python": {
     "delete_cmd_postfix": "",
     "delete_cmd_prefix": "del ",
     "library": "var_list.py",
     "varRefreshCmd": "print(var_dic_list())"
    },
    "r": {
     "delete_cmd_postfix": ") ",
     "delete_cmd_prefix": "rm(",
     "library": "var_list.r",
     "varRefreshCmd": "cat(var_dic_list()) "
    }
   },
   "types_to_exclude": [
    "module",
    "function",
    "builtin_function_or_method",
    "instance",
    "_Feature"
   ],
   "window_display": false
  },
  "interpreter": {
   "hash": "3817193d82d77019d9b817f14aa1b29b92bd69528e24e3d73fd22a4414cba581"
  }
 },
 "nbformat": 4,
 "nbformat_minor": 2
}